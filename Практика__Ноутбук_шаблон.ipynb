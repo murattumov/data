{
  "cells": [
    {
      "cell_type": "markdown",
      "id": "086a113c",
      "metadata": {
        "id": "086a113c"
      },
      "source": [
        "# <center> Обучение с учителем. Классификация. Практика\n",
        "\n",
        "## <center> Прогнозирование оттока клиентов банка"
      ]
    },
    {
      "cell_type": "markdown",
      "id": "85ccf5ae",
      "metadata": {
        "id": "85ccf5ae"
      },
      "source": [
        "## Постановка задачи"
      ]
    },
    {
      "cell_type": "markdown",
      "id": "20769d74",
      "metadata": {
        "id": "20769d74"
      },
      "source": [
        "Теперь настало время самостоятельной работы. В рамках самостоятельной работы вам предстоит решить задачу прогнозирования оттока клиентов банка. \n",
        "\n",
        "> **Примечание.** Вы уже знакомились с этой задачей в модуле по визуализации («PYTHON-13. Визуализация данных») и провели небольшое исследование данных. Вы можете использовать результаты своего исследования для построения модели машинного обучения.\n",
        "\n",
        "Напомним контекст задачи:\n",
        "\n",
        "> Некоторый банк обратился к вам за помощью: он хочет разработать кампанию лояльности по удержанию клиентов. Для этого он хочет прогнозировать вероятности оттока клиентов и определять, уйдёт ли клиент в ближайшее время. \n",
        "\n",
        "Итак, ранее вы провели небольшой разведывательный анализ, познакомились с данными и выявили, чем ушедшие клиенты отличаются от лояльных и как между собой связаны различные признаки, определяющие клиентов. Вы отлично справились с первой задачей, и теперь представители банка предлагают вам построить саму модель машинного обучения, которая будет прогнозировать отток клиентов. \n",
        "\n",
        "**Ваша задача** - построить классификатор, который позволит своевременно определять уходящих клиентов банка, оценить качество построенных моделей и проинтерпретировать результаты.\n",
        "\n",
        "Разделим эту задачу на две части:\n",
        "* В первой части мы подготовим данные для моделирования и построим простейшую модель логистической регрессии, оценим её качество и проанализируем результаты её работы.\n",
        "\n",
        "* Во второй части мы займёмся построением моделей дерева решений и случайного леса, сравним их результаты с результатами, полученными на первом этапе, и сделаем финальный вывод.\n"
      ]
    },
    {
      "cell_type": "markdown",
      "id": "fd90490e",
      "metadata": {
        "id": "fd90490e"
      },
      "source": [
        "Для начала импортируем библиотеки, которые нам понадобятся:"
      ]
    },
    {
      "cell_type": "code",
      "execution_count": 1,
      "id": "a26669af-982b-421f-9441-4d5f3a8ffb5d",
      "metadata": {
        "id": "a26669af-982b-421f-9441-4d5f3a8ffb5d"
      },
      "outputs": [],
      "source": [
        "import numpy as np #для матричных вычислений\n",
        "import pandas as pd #для анализа и предобработки данных\n",
        "import matplotlib.pyplot as plt #для визуализации\n",
        "import seaborn as sns #для визуализации\n",
        "\n",
        "from sklearn import linear_model #линейные модели\n",
        "from sklearn import metrics #метрики\n",
        "from sklearn import model_selection #сплитование выборки\n",
        "from sklearn import preprocessing #предобработка данных\n",
        "%matplotlib inline"
      ]
    },
    {
      "cell_type": "code",
      "execution_count": 28,
      "id": "8TrrWKrp9FXr",
      "metadata": {
        "colab": {
          "base_uri": "https://localhost:8080/",
          "height": 206
        },
        "id": "8TrrWKrp9FXr",
        "outputId": "13e24da4-72f5-4d23-93c8-76b78ec014b0"
      },
      "outputs": [
        {
          "data": {
            "text/html": [
              "\n",
              "  <div id=\"df-7641fa68-bc70-4842-bea4-768abc266dd6\">\n",
              "    <div class=\"colab-df-container\">\n",
              "      <div>\n",
              "<style scoped>\n",
              "    .dataframe tbody tr th:only-of-type {\n",
              "        vertical-align: middle;\n",
              "    }\n",
              "\n",
              "    .dataframe tbody tr th {\n",
              "        vertical-align: top;\n",
              "    }\n",
              "\n",
              "    .dataframe thead th {\n",
              "        text-align: right;\n",
              "    }\n",
              "</style>\n",
              "<table border=\"1\" class=\"dataframe\">\n",
              "  <thead>\n",
              "    <tr style=\"text-align: right;\">\n",
              "      <th></th>\n",
              "      <th>RowNumber</th>\n",
              "      <th>CustomerId</th>\n",
              "      <th>Surname</th>\n",
              "      <th>CreditScore</th>\n",
              "      <th>Geography</th>\n",
              "      <th>Gender</th>\n",
              "      <th>Age</th>\n",
              "      <th>Tenure</th>\n",
              "      <th>Balance</th>\n",
              "      <th>NumOfProducts</th>\n",
              "      <th>HasCrCard</th>\n",
              "      <th>IsActiveMember</th>\n",
              "      <th>EstimatedSalary</th>\n",
              "      <th>Exited</th>\n",
              "    </tr>\n",
              "  </thead>\n",
              "  <tbody>\n",
              "    <tr>\n",
              "      <th>0</th>\n",
              "      <td>1</td>\n",
              "      <td>15634602</td>\n",
              "      <td>Hargrave</td>\n",
              "      <td>619</td>\n",
              "      <td>France</td>\n",
              "      <td>Female</td>\n",
              "      <td>42</td>\n",
              "      <td>2</td>\n",
              "      <td>0.00</td>\n",
              "      <td>1</td>\n",
              "      <td>1</td>\n",
              "      <td>1</td>\n",
              "      <td>101348.88</td>\n",
              "      <td>1</td>\n",
              "    </tr>\n",
              "    <tr>\n",
              "      <th>1</th>\n",
              "      <td>2</td>\n",
              "      <td>15647311</td>\n",
              "      <td>Hill</td>\n",
              "      <td>608</td>\n",
              "      <td>Spain</td>\n",
              "      <td>Female</td>\n",
              "      <td>41</td>\n",
              "      <td>1</td>\n",
              "      <td>83807.86</td>\n",
              "      <td>1</td>\n",
              "      <td>0</td>\n",
              "      <td>1</td>\n",
              "      <td>112542.58</td>\n",
              "      <td>0</td>\n",
              "    </tr>\n",
              "    <tr>\n",
              "      <th>2</th>\n",
              "      <td>3</td>\n",
              "      <td>15619304</td>\n",
              "      <td>Onio</td>\n",
              "      <td>502</td>\n",
              "      <td>France</td>\n",
              "      <td>Female</td>\n",
              "      <td>42</td>\n",
              "      <td>8</td>\n",
              "      <td>159660.80</td>\n",
              "      <td>3</td>\n",
              "      <td>1</td>\n",
              "      <td>0</td>\n",
              "      <td>113931.57</td>\n",
              "      <td>1</td>\n",
              "    </tr>\n",
              "    <tr>\n",
              "      <th>3</th>\n",
              "      <td>4</td>\n",
              "      <td>15701354</td>\n",
              "      <td>Boni</td>\n",
              "      <td>699</td>\n",
              "      <td>France</td>\n",
              "      <td>Female</td>\n",
              "      <td>39</td>\n",
              "      <td>1</td>\n",
              "      <td>0.00</td>\n",
              "      <td>2</td>\n",
              "      <td>0</td>\n",
              "      <td>0</td>\n",
              "      <td>93826.63</td>\n",
              "      <td>0</td>\n",
              "    </tr>\n",
              "    <tr>\n",
              "      <th>4</th>\n",
              "      <td>5</td>\n",
              "      <td>15737888</td>\n",
              "      <td>Mitchell</td>\n",
              "      <td>850</td>\n",
              "      <td>Spain</td>\n",
              "      <td>Female</td>\n",
              "      <td>43</td>\n",
              "      <td>2</td>\n",
              "      <td>125510.82</td>\n",
              "      <td>1</td>\n",
              "      <td>1</td>\n",
              "      <td>1</td>\n",
              "      <td>79084.10</td>\n",
              "      <td>0</td>\n",
              "    </tr>\n",
              "  </tbody>\n",
              "</table>\n",
              "</div>\n",
              "      <button class=\"colab-df-convert\" onclick=\"convertToInteractive('df-7641fa68-bc70-4842-bea4-768abc266dd6')\"\n",
              "              title=\"Convert this dataframe to an interactive table.\"\n",
              "              style=\"display:none;\">\n",
              "        \n",
              "  <svg xmlns=\"http://www.w3.org/2000/svg\" height=\"24px\"viewBox=\"0 0 24 24\"\n",
              "       width=\"24px\">\n",
              "    <path d=\"M0 0h24v24H0V0z\" fill=\"none\"/>\n",
              "    <path d=\"M18.56 5.44l.94 2.06.94-2.06 2.06-.94-2.06-.94-.94-2.06-.94 2.06-2.06.94zm-11 1L8.5 8.5l.94-2.06 2.06-.94-2.06-.94L8.5 2.5l-.94 2.06-2.06.94zm10 10l.94 2.06.94-2.06 2.06-.94-2.06-.94-.94-2.06-.94 2.06-2.06.94z\"/><path d=\"M17.41 7.96l-1.37-1.37c-.4-.4-.92-.59-1.43-.59-.52 0-1.04.2-1.43.59L10.3 9.45l-7.72 7.72c-.78.78-.78 2.05 0 2.83L4 21.41c.39.39.9.59 1.41.59.51 0 1.02-.2 1.41-.59l7.78-7.78 2.81-2.81c.8-.78.8-2.07 0-2.86zM5.41 20L4 18.59l7.72-7.72 1.47 1.35L5.41 20z\"/>\n",
              "  </svg>\n",
              "      </button>\n",
              "      \n",
              "  <style>\n",
              "    .colab-df-container {\n",
              "      display:flex;\n",
              "      flex-wrap:wrap;\n",
              "      gap: 12px;\n",
              "    }\n",
              "\n",
              "    .colab-df-convert {\n",
              "      background-color: #E8F0FE;\n",
              "      border: none;\n",
              "      border-radius: 50%;\n",
              "      cursor: pointer;\n",
              "      display: none;\n",
              "      fill: #1967D2;\n",
              "      height: 32px;\n",
              "      padding: 0 0 0 0;\n",
              "      width: 32px;\n",
              "    }\n",
              "\n",
              "    .colab-df-convert:hover {\n",
              "      background-color: #E2EBFA;\n",
              "      box-shadow: 0px 1px 2px rgba(60, 64, 67, 0.3), 0px 1px 3px 1px rgba(60, 64, 67, 0.15);\n",
              "      fill: #174EA6;\n",
              "    }\n",
              "\n",
              "    [theme=dark] .colab-df-convert {\n",
              "      background-color: #3B4455;\n",
              "      fill: #D2E3FC;\n",
              "    }\n",
              "\n",
              "    [theme=dark] .colab-df-convert:hover {\n",
              "      background-color: #434B5C;\n",
              "      box-shadow: 0px 1px 3px 1px rgba(0, 0, 0, 0.15);\n",
              "      filter: drop-shadow(0px 1px 2px rgba(0, 0, 0, 0.3));\n",
              "      fill: #FFFFFF;\n",
              "    }\n",
              "  </style>\n",
              "\n",
              "      <script>\n",
              "        const buttonEl =\n",
              "          document.querySelector('#df-7641fa68-bc70-4842-bea4-768abc266dd6 button.colab-df-convert');\n",
              "        buttonEl.style.display =\n",
              "          google.colab.kernel.accessAllowed ? 'block' : 'none';\n",
              "\n",
              "        async function convertToInteractive(key) {\n",
              "          const element = document.querySelector('#df-7641fa68-bc70-4842-bea4-768abc266dd6');\n",
              "          const dataTable =\n",
              "            await google.colab.kernel.invokeFunction('convertToInteractive',\n",
              "                                                     [key], {});\n",
              "          if (!dataTable) return;\n",
              "\n",
              "          const docLinkHtml = 'Like what you see? Visit the ' +\n",
              "            '<a target=\"_blank\" href=https://colab.research.google.com/notebooks/data_table.ipynb>data table notebook</a>'\n",
              "            + ' to learn more about interactive tables.';\n",
              "          element.innerHTML = '';\n",
              "          dataTable['output_type'] = 'display_data';\n",
              "          await google.colab.output.renderOutput(dataTable, element);\n",
              "          const docLink = document.createElement('div');\n",
              "          docLink.innerHTML = docLinkHtml;\n",
              "          element.appendChild(docLink);\n",
              "        }\n",
              "      </script>\n",
              "    </div>\n",
              "  </div>\n",
              "  "
            ],
            "text/plain": [
              "   RowNumber  CustomerId   Surname  CreditScore Geography  Gender  Age  \\\n",
              "0          1    15634602  Hargrave          619    France  Female   42   \n",
              "1          2    15647311      Hill          608     Spain  Female   41   \n",
              "2          3    15619304      Onio          502    France  Female   42   \n",
              "3          4    15701354      Boni          699    France  Female   39   \n",
              "4          5    15737888  Mitchell          850     Spain  Female   43   \n",
              "\n",
              "   Tenure    Balance  NumOfProducts  HasCrCard  IsActiveMember  \\\n",
              "0       2       0.00              1          1               1   \n",
              "1       1   83807.86              1          0               1   \n",
              "2       8  159660.80              3          1               0   \n",
              "3       1       0.00              2          0               0   \n",
              "4       2  125510.82              1          1               1   \n",
              "\n",
              "   EstimatedSalary  Exited  \n",
              "0        101348.88       1  \n",
              "1        112542.58       0  \n",
              "2        113931.57       1  \n",
              "3         93826.63       0  \n",
              "4         79084.10       0  "
            ]
          },
          "execution_count": 28,
          "metadata": {},
          "output_type": "execute_result"
        }
      ],
      "source": [
        "churn_data = pd.read_csv('data/churn.csv')\n",
        "churn_data.head()"
      ]
    },
    {
      "cell_type": "markdown",
      "id": "6687034e",
      "metadata": {
        "id": "6687034e"
      },
      "source": [
        "Итак, прочитаем нашу таблицу:"
      ]
    },
    {
      "cell_type": "markdown",
      "id": "d2fa56d2",
      "metadata": {
        "id": "d2fa56d2"
      },
      "source": [
        "## Практика: логистическая регрессия"
      ]
    },
    {
      "cell_type": "markdown",
      "id": "4cRkKq9ZItBe",
      "metadata": {
        "id": "4cRkKq9ZItBe"
      },
      "source": [
        "В первой части вам предстоит выполнить задания 5.0–5.6. Максимальное количество баллов, которое можно получить, — 9:"
      ]
    },
    {
      "cell_type": "markdown",
      "id": "489f4fdd",
      "metadata": {
        "id": "489f4fdd"
      },
      "source": [
        "### Задание 5.0 (не оценивается)\n",
        "\n",
        "Для полноты задачи проведите небольшой разведывательный анализ данных. Постройте графики распределения целевого признака, диаграммы и графики, показывающие взаимосвязь между исходными признаками и целевым признаком, а также другие диаграммы, иллюстрирующие предоставленные данные. \n",
        "\n",
        "**Совет:** воспользуйтесь кодом, который вы писали, выполняя задания в модуле «PYTHON-13. Визуализация данных»."
      ]
    },
    {
      "cell_type": "code",
      "execution_count": 4,
      "id": "q-j5xJT33mpI",
      "metadata": {
        "colab": {
          "base_uri": "https://localhost:8080/",
          "height": 1000
        },
        "id": "q-j5xJT33mpI",
        "outputId": "d355c44e-602b-4808-e977-49826bf3bfa9"
      },
      "outputs": [
        {
          "data": {
            "image/png": "[encoded data removed]",
            "text/plain": [
              "<Figure size 1500x1500 with 8 Axes>"
            ]
          },
          "metadata": {},
          "output_type": "display_data"
        }
      ],
      "source": [
        "# Ваш код здесь\n",
        "fig, axes = plt.subplots(4, 2, figsize=(15, 15)) #фигура+n*2 координатных плоскостей\n",
        "\n",
        "#Строим столбчатую диаграмму доли ушедших людей в зависимости от категории 'Geography'\n",
        "mean_barplot = sns.barplot(data=churn_data, x='Geography', y='Exited', ax=axes[0][0])\n",
        "mean_barplot.set_title('Доля ушедших клиентов в разрезе страны проживания клиента');\n",
        "mean_barplot.set_xlabel('Страна проживания клиента');\n",
        "mean_barplot.set_ylabel('Доля ушедших')\n",
        "mean_barplot.grid();\n",
        "\n",
        "#Количество лояльных и ушедших клиентов от числа приобретённых у банка услуг\n",
        "histplot0 = sns.histplot(\n",
        "    data=churn_data,\n",
        "    x=\"Geography\",\n",
        "    hue=\"Exited\", \n",
        "    multiple=\"dodge\", \n",
        "    shrink=1,\n",
        "    ax=axes[0][1]\n",
        "    )\n",
        "histplot0.set_title('Взаимосвязь оттока клиентов от страны проживания клиента');\n",
        "histplot0.set_xlabel('Страна проживания клиента');\n",
        "histplot0.set_ylabel('Количество');\n",
        "\n",
        "#Количество лояльных и ушедших клиентов от числа приобретённых у банка услуг\n",
        "histplot = sns.histplot(\n",
        "    data=churn_data,\n",
        "    x=\"NumOfProducts\",\n",
        "    hue=\"Exited\", \n",
        "    multiple=\"dodge\", \n",
        "    shrink=5,\n",
        "    ax=axes[1][0]\n",
        "    )\n",
        "histplot.set_title('Взаимосвязь оттока клиентов от числа приобретённых у банка услуг');\n",
        "histplot.set_xlabel('Приобретённые услуги');\n",
        "histplot.set_ylabel('Количество');\n",
        "\n",
        "#Доля ушедших клиентов к лояльным в зависимости от приобретённых услуг\n",
        "barplot = sns.barplot(\n",
        "    data=churn_data,\n",
        "    x='NumOfProducts',\n",
        "    y='Exited',\n",
        "    ax=axes[1][1]\n",
        ")\n",
        "barplot.set_title('Доля ушедших клиентов к лояльным');\n",
        "barplot.set_xlabel('Приобретённые услуги');\n",
        "barplot.set_ylabel('Отток');\n",
        "\n",
        "#Доля мужчин и женщин среди ушедших клиентов\n",
        "pieplot = axes[2][0].pie(\n",
        "    churn_data['Gender'].value_counts(), # берем данные об ушедших клиентах\n",
        "    labels=['Доля ушедших женщин', 'Доля ушедших мужчин'], \n",
        "    autopct='%.1f%%', #округление до первого знака после запятой \n",
        "    explode=[0.1, 0], #доля смещения от центра \n",
        "    ) \n",
        "\n",
        "#Количество мужчин и женщин среди лояльных и ушедших клиентов\n",
        "histplot = sns.histplot(\n",
        "    data=churn_data,\n",
        "    x=\"Gender\",\n",
        "    hue=\"Exited\", \n",
        "    multiple=\"dodge\", \n",
        "    shrink=1,\n",
        "    ax=axes[2][1]\n",
        "    )\n",
        "histplot.set_title('Взаимосвязь оттока клиентов от пола клиентов');\n",
        "histplot.set_xlabel('Пол');\n",
        "histplot.set_ylabel('Количество');\n",
        "\n",
        "#Распределение баланса клиента в разрезе признака оттока по возрасту\n",
        "boxplot = sns.histplot(\n",
        "    data=churn_data,\n",
        "    x='Age',\n",
        "    hue='Exited',\n",
        "    bins=20,\n",
        "    ax=axes[3][0]\n",
        ")\n",
        "boxplot.set_title('Распределение баланса клиента в разрезе признака оттока по возрасту');\n",
        "boxplot.set_xlabel('Баланс');\n",
        "boxplot.set_ylabel('Количество')\n",
        "boxplot.grid()\n",
        "boxplot.legend(['ушедшие', 'лояльные']);\n",
        "\n",
        "#Распределение возраста клиента в разрезе признака оттока\n",
        "boxplot2 = sns.boxplot(\n",
        "    data=churn_data,\n",
        "    y='Exited',\n",
        "    x='Age',\n",
        "    orient='h',\n",
        "    width=0.9,\n",
        "    ax=axes[3][1]\n",
        ")\n",
        "boxplot2.set_title('Распределение возраста клиента в разрезе признака оттока');\n",
        "boxplot2.set_xlabel('Возраст');\n",
        "boxplot2.set_ylabel('Отток(1 - ушедшие)');\n",
        "boxplot2.grid(); #Большинство лояльных клиентов в возрасте от 30 до 42 лет. Большое количество выбросов после 56 лет.\n",
        "# А вот возраст большинства ушедших клиентов варьируется от 38 до 51 года. Выбросов мало. \n",
        "\n",
        "plt.tight_layout() #выравнивание графиков"
      ]
    },
    {
      "cell_type": "markdown",
      "id": "8e687f96",
      "metadata": {
        "id": "8e687f96"
      },
      "source": [
        "В модуле по визуализации мы выяснили, что отток в Германии, Франции и Испании имеет различные показатели. Исследователи, которые уже работали с этим датасетом, пришли к выводу, что наилучшее решение при работе с этими данными — строить модели индивидуально для каждой страны. Мы будем прогнозировать отток в немецком филиале банка. Давайте выделим только данные, относящиеся к Германии:"
      ]
    },
    {
      "cell_type": "code",
      "execution_count": 29,
      "id": "4bd5cc7f-5db6-4464-9ccf-f40b9c0c97cb",
      "metadata": {
        "colab": {
          "base_uri": "https://localhost:8080/"
        },
        "id": "4bd5cc7f-5db6-4464-9ccf-f40b9c0c97cb",
        "outputId": "f4eebc2f-eb08-43f5-a303-981702382751"
      },
      "outputs": [
        {
          "data": {
            "text/plain": [
              "(2509, 14)"
            ]
          },
          "execution_count": 29,
          "metadata": {},
          "output_type": "execute_result"
        }
      ],
      "source": [
        "churn_data = churn_data[churn_data['Geography'] == 'Germany']\n",
        "churn_data.shape"
      ]
    },
    {
      "cell_type": "markdown",
      "id": "faa98fa3",
      "metadata": {
        "id": "faa98fa3"
      },
      "source": [
        "Сразу избавимся от заведомо неинформативных признаков: страна, номер строки, идентификатор пользователя и имя клиента."
      ]
    },
    {
      "cell_type": "code",
      "execution_count": 30,
      "id": "47fd1e77-b9ab-4df6-ab69-c2d0d7411fee",
      "metadata": {
        "colab": {
          "base_uri": "https://localhost:8080/",
          "height": 206
        },
        "id": "47fd1e77-b9ab-4df6-ab69-c2d0d7411fee",
        "outputId": "3d36e2d1-7d1a-48e9-a64a-3fa39776716e",
        "tags": []
      },
      "outputs": [
        {
          "data": {
            "text/html": [
              "\n",
              "  <div id=\"df-fb178e42-28f9-4b5c-87e2-652d77d0c40d\">\n",
              "    <div class=\"colab-df-container\">\n",
              "      <div>\n",
              "<style scoped>\n",
              "    .dataframe tbody tr th:only-of-type {\n",
              "        vertical-align: middle;\n",
              "    }\n",
              "\n",
              "    .dataframe tbody tr th {\n",
              "        vertical-align: top;\n",
              "    }\n",
              "\n",
              "    .dataframe thead th {\n",
              "        text-align: right;\n",
              "    }\n",
              "</style>\n",
              "<table border=\"1\" class=\"dataframe\">\n",
              "  <thead>\n",
              "    <tr style=\"text-align: right;\">\n",
              "      <th></th>\n",
              "      <th>CreditScore</th>\n",
              "      <th>Gender</th>\n",
              "      <th>Age</th>\n",
              "      <th>Tenure</th>\n",
              "      <th>Balance</th>\n",
              "      <th>NumOfProducts</th>\n",
              "      <th>HasCrCard</th>\n",
              "      <th>IsActiveMember</th>\n",
              "      <th>EstimatedSalary</th>\n",
              "      <th>Exited</th>\n",
              "    </tr>\n",
              "  </thead>\n",
              "  <tbody>\n",
              "    <tr>\n",
              "      <th>7</th>\n",
              "      <td>376</td>\n",
              "      <td>Female</td>\n",
              "      <td>29</td>\n",
              "      <td>4</td>\n",
              "      <td>115046.74</td>\n",
              "      <td>4</td>\n",
              "      <td>1</td>\n",
              "      <td>0</td>\n",
              "      <td>119346.88</td>\n",
              "      <td>1</td>\n",
              "    </tr>\n",
              "    <tr>\n",
              "      <th>15</th>\n",
              "      <td>616</td>\n",
              "      <td>Male</td>\n",
              "      <td>45</td>\n",
              "      <td>3</td>\n",
              "      <td>143129.41</td>\n",
              "      <td>2</td>\n",
              "      <td>0</td>\n",
              "      <td>1</td>\n",
              "      <td>64327.26</td>\n",
              "      <td>0</td>\n",
              "    </tr>\n",
              "    <tr>\n",
              "      <th>16</th>\n",
              "      <td>653</td>\n",
              "      <td>Male</td>\n",
              "      <td>58</td>\n",
              "      <td>1</td>\n",
              "      <td>132602.88</td>\n",
              "      <td>1</td>\n",
              "      <td>1</td>\n",
              "      <td>0</td>\n",
              "      <td>5097.67</td>\n",
              "      <td>1</td>\n",
              "    </tr>\n",
              "    <tr>\n",
              "      <th>26</th>\n",
              "      <td>756</td>\n",
              "      <td>Male</td>\n",
              "      <td>36</td>\n",
              "      <td>2</td>\n",
              "      <td>136815.64</td>\n",
              "      <td>1</td>\n",
              "      <td>1</td>\n",
              "      <td>1</td>\n",
              "      <td>170041.95</td>\n",
              "      <td>0</td>\n",
              "    </tr>\n",
              "    <tr>\n",
              "      <th>28</th>\n",
              "      <td>574</td>\n",
              "      <td>Female</td>\n",
              "      <td>43</td>\n",
              "      <td>3</td>\n",
              "      <td>141349.43</td>\n",
              "      <td>1</td>\n",
              "      <td>1</td>\n",
              "      <td>1</td>\n",
              "      <td>100187.43</td>\n",
              "      <td>0</td>\n",
              "    </tr>\n",
              "  </tbody>\n",
              "</table>\n",
              "</div>\n",
              "      <button class=\"colab-df-convert\" onclick=\"convertToInteractive('df-fb178e42-28f9-4b5c-87e2-652d77d0c40d')\"\n",
              "              title=\"Convert this dataframe to an interactive table.\"\n",
              "              style=\"display:none;\">\n",
              "        \n",
              "  <svg xmlns=\"http://www.w3.org/2000/svg\" height=\"24px\"viewBox=\"0 0 24 24\"\n",
              "       width=\"24px\">\n",
              "    <path d=\"M0 0h24v24H0V0z\" fill=\"none\"/>\n",
              "    <path d=\"M18.56 5.44l.94 2.06.94-2.06 2.06-.94-2.06-.94-.94-2.06-.94 2.06-2.06.94zm-11 1L8.5 8.5l.94-2.06 2.06-.94-2.06-.94L8.5 2.5l-.94 2.06-2.06.94zm10 10l.94 2.06.94-2.06 2.06-.94-2.06-.94-.94-2.06-.94 2.06-2.06.94z\"/><path d=\"M17.41 7.96l-1.37-1.37c-.4-.4-.92-.59-1.43-.59-.52 0-1.04.2-1.43.59L10.3 9.45l-7.72 7.72c-.78.78-.78 2.05 0 2.83L4 21.41c.39.39.9.59 1.41.59.51 0 1.02-.2 1.41-.59l7.78-7.78 2.81-2.81c.8-.78.8-2.07 0-2.86zM5.41 20L4 18.59l7.72-7.72 1.47 1.35L5.41 20z\"/>\n",
              "  </svg>\n",
              "      </button>\n",
              "      \n",
              "  <style>\n",
              "    .colab-df-container {\n",
              "      display:flex;\n",
              "      flex-wrap:wrap;\n",
              "      gap: 12px;\n",
              "    }\n",
              "\n",
              "    .colab-df-convert {\n",
              "      background-color: #E8F0FE;\n",
              "      border: none;\n",
              "      border-radius: 50%;\n",
              "      cursor: pointer;\n",
              "      display: none;\n",
              "      fill: #1967D2;\n",
              "      height: 32px;\n",
              "      padding: 0 0 0 0;\n",
              "      width: 32px;\n",
              "    }\n",
              "\n",
              "    .colab-df-convert:hover {\n",
              "      background-color: #E2EBFA;\n",
              "      box-shadow: 0px 1px 2px rgba(60, 64, 67, 0.3), 0px 1px 3px 1px rgba(60, 64, 67, 0.15);\n",
              "      fill: #174EA6;\n",
              "    }\n",
              "\n",
              "    [theme=dark] .colab-df-convert {\n",
              "      background-color: #3B4455;\n",
              "      fill: #D2E3FC;\n",
              "    }\n",
              "\n",
              "    [theme=dark] .colab-df-convert:hover {\n",
              "      background-color: #434B5C;\n",
              "      box-shadow: 0px 1px 3px 1px rgba(0, 0, 0, 0.15);\n",
              "      filter: drop-shadow(0px 1px 2px rgba(0, 0, 0, 0.3));\n",
              "      fill: #FFFFFF;\n",
              "    }\n",
              "  </style>\n",
              "\n",
              "      <script>\n",
              "        const buttonEl =\n",
              "          document.querySelector('#df-fb178e42-28f9-4b5c-87e2-652d77d0c40d button.colab-df-convert');\n",
              "        buttonEl.style.display =\n",
              "          google.colab.kernel.accessAllowed ? 'block' : 'none';\n",
              "\n",
              "        async function convertToInteractive(key) {\n",
              "          const element = document.querySelector('#df-fb178e42-28f9-4b5c-87e2-652d77d0c40d');\n",
              "          const dataTable =\n",
              "            await google.colab.kernel.invokeFunction('convertToInteractive',\n",
              "                                                     [key], {});\n",
              "          if (!dataTable) return;\n",
              "\n",
              "          const docLinkHtml = 'Like what you see? Visit the ' +\n",
              "            '<a target=\"_blank\" href=https://colab.research.google.com/notebooks/data_table.ipynb>data table notebook</a>'\n",
              "            + ' to learn more about interactive tables.';\n",
              "          element.innerHTML = '';\n",
              "          dataTable['output_type'] = 'display_data';\n",
              "          await google.colab.output.renderOutput(dataTable, element);\n",
              "          const docLink = document.createElement('div');\n",
              "          docLink.innerHTML = docLinkHtml;\n",
              "          element.appendChild(docLink);\n",
              "        }\n",
              "      </script>\n",
              "    </div>\n",
              "  </div>\n",
              "  "
            ],
            "text/plain": [
              "    CreditScore  Gender  Age  Tenure    Balance  NumOfProducts  HasCrCard  \\\n",
              "7           376  Female   29       4  115046.74              4          1   \n",
              "15          616    Male   45       3  143129.41              2          0   \n",
              "16          653    Male   58       1  132602.88              1          1   \n",
              "26          756    Male   36       2  136815.64              1          1   \n",
              "28          574  Female   43       3  141349.43              1          1   \n",
              "\n",
              "    IsActiveMember  EstimatedSalary  Exited  \n",
              "7                0        119346.88       1  \n",
              "15               1         64327.26       0  \n",
              "16               0          5097.67       1  \n",
              "26               1        170041.95       0  \n",
              "28               1        100187.43       0  "
            ]
          },
          "execution_count": 30,
          "metadata": {},
          "output_type": "execute_result"
        }
      ],
      "source": [
        "churn_data = churn_data.drop(['Geography', 'RowNumber', 'CustomerId', 'Surname'], axis=1)\n",
        "churn_data.head()"
      ]
    },
    {
      "cell_type": "markdown",
      "id": "c2ef5b16",
      "metadata": {
        "id": "c2ef5b16"
      },
      "source": [
        "Проверим, что в наших данных нет пропусков:"
      ]
    },
    {
      "cell_type": "code",
      "execution_count": 7,
      "id": "164b1772-00c0-4cb7-9e05-ee9d9f7953d8",
      "metadata": {
        "colab": {
          "base_uri": "https://localhost:8080/"
        },
        "id": "164b1772-00c0-4cb7-9e05-ee9d9f7953d8",
        "outputId": "8e821d7a-740a-436c-b7a7-062f79a1ce4a"
      },
      "outputs": [
        {
          "data": {
            "text/plain": [
              "CreditScore        0\n",
              "Gender             0\n",
              "Age                0\n",
              "Tenure             0\n",
              "Balance            0\n",
              "NumOfProducts      0\n",
              "HasCrCard          0\n",
              "IsActiveMember     0\n",
              "EstimatedSalary    0\n",
              "Exited             0\n",
              "dtype: int64"
            ]
          },
          "execution_count": 7,
          "metadata": {},
          "output_type": "execute_result"
        }
      ],
      "source": [
        "churn_data.isnull().sum()"
      ]
    },
    {
      "cell_type": "markdown",
      "id": "06cc2b0f",
      "metadata": {
        "id": "06cc2b0f"
      },
      "source": [
        "Проверим, что в наших данных нет дубликатов:"
      ]
    },
    {
      "cell_type": "code",
      "execution_count": 8,
      "id": "38127c2b",
      "metadata": {
        "colab": {
          "base_uri": "https://localhost:8080/"
        },
        "id": "38127c2b",
        "outputId": "dbd908be-a6c5-491d-9f84-9a500a0e8c12"
      },
      "outputs": [
        {
          "data": {
            "text/plain": [
              "CreditScore        0.0\n",
              "Gender             0.0\n",
              "Age                0.0\n",
              "Tenure             0.0\n",
              "Balance            0.0\n",
              "NumOfProducts      0.0\n",
              "HasCrCard          0.0\n",
              "IsActiveMember     0.0\n",
              "EstimatedSalary    0.0\n",
              "Exited             0.0\n",
              "dtype: float64"
            ]
          },
          "execution_count": 8,
          "metadata": {},
          "output_type": "execute_result"
        }
      ],
      "source": [
        "churn_data[churn_data.duplicated()].sum()"
      ]
    },
    {
      "cell_type": "markdown",
      "id": "2cff3b2c",
      "metadata": {
        "id": "2cff3b2c"
      },
      "source": [
        "### Задание 5.1 (1 балл)\n",
        "\n",
        "Давайте сделаем предобработку данных. \n",
        "\n",
        "Для начала расширим датасет с помощью методов Feature Engineering. Создайте следующие признаки:\n",
        "* `BalanceSalaryRatio` — отношение баланса на счетах к заработной плате клиента;\n",
        "* `TenureByAge` — отношение времени пользования услугами банка к возрасту клиента;\n",
        "* `CreditScoreGivenAge` — отношение кредитного рейтинга к возрасту клиента.\n",
        "\n",
        "Затем перекодируйте оставшиеся текстовые категориальные признаки в числовые бинарные столбцы.\n",
        "\n",
        "Выведите основные статистические характеристики полученных признаков."
      ]
    },
    {
      "cell_type": "markdown",
      "id": "f34dcdf2",
      "metadata": {
        "id": "f34dcdf2"
      },
      "source": [
        "**Критерии оценивания:**\n",
        "- Задание выполнено верно, учтены все условия (**1 балл**): \n",
        "    * приведён код для создания указанных в задании признаков;\n",
        "    * приведён код для кодирования категориальных признаков в числовые бинарные столбцы;\n",
        "    * приведён код для расчёта основных статистических характеристик полученных признаков.\n",
        "\n",
        "- Задание выполнено неверно, не учтено одно или несколько условий (**0 баллов**)."
      ]
    },
    {
      "cell_type": "code",
      "execution_count": 31,
      "id": "IwRMAcAl5mVl",
      "metadata": {
        "colab": {
          "base_uri": "https://localhost:8080/",
          "height": 416
        },
        "id": "IwRMAcAl5mVl",
        "outputId": "02369a22-032f-4019-c4df-6d60313c6fa7"
      },
      "outputs": [
        {
          "name": "stderr",
          "output_type": "stream",
          "text": [
            "<ipython-input-31-43c916fa563e>:13: DeprecationWarning: `np.int` is a deprecated alias for the builtin `int`. To silence this warning, use `int` by itself. Doing this will not modify any behavior and is safe. When replacing `np.int`, you may wish to use e.g. `np.int64` or `np.int32` to specify the precision. If you wish to review your current use, check the release note link for additional information.\n",
            "Deprecated in NumPy 1.20; for more details and guidance: https://numpy.org/devdocs/release/1.20.0-notes.html#deprecations\n",
            "  churn_data = churn_data.astype({'NumOfProducts': np.int})\n"
          ]
        },
        {
          "data": {
            "text/html": [
              "\n",
              "  <div id=\"df-a101fef4-4422-460f-a63e-95a50a8496ad\">\n",
              "    <div class=\"colab-df-container\">\n",
              "      <div>\n",
              "<style scoped>\n",
              "    .dataframe tbody tr th:only-of-type {\n",
              "        vertical-align: middle;\n",
              "    }\n",
              "\n",
              "    .dataframe tbody tr th {\n",
              "        vertical-align: top;\n",
              "    }\n",
              "\n",
              "    .dataframe thead th {\n",
              "        text-align: right;\n",
              "    }\n",
              "</style>\n",
              "<table border=\"1\" class=\"dataframe\">\n",
              "  <thead>\n",
              "    <tr style=\"text-align: right;\">\n",
              "      <th></th>\n",
              "      <th>CreditScore</th>\n",
              "      <th>Age</th>\n",
              "      <th>Tenure</th>\n",
              "      <th>Balance</th>\n",
              "      <th>HasCrCard</th>\n",
              "      <th>IsActiveMember</th>\n",
              "      <th>EstimatedSalary</th>\n",
              "      <th>Exited</th>\n",
              "      <th>BalanceSalaryRatio</th>\n",
              "      <th>TenureByAge</th>\n",
              "      <th>CreditScoreGivenAge</th>\n",
              "      <th>Gender_Male</th>\n",
              "      <th>NumOfProducts_1</th>\n",
              "      <th>NumOfProducts_2</th>\n",
              "      <th>NumOfProducts_3</th>\n",
              "      <th>NumOfProducts_4</th>\n",
              "    </tr>\n",
              "  </thead>\n",
              "  <tbody>\n",
              "    <tr>\n",
              "      <th>count</th>\n",
              "      <td>2509.000000</td>\n",
              "      <td>2509.000000</td>\n",
              "      <td>2509.000000</td>\n",
              "      <td>2509.000000</td>\n",
              "      <td>2509.00000</td>\n",
              "      <td>2509.000000</td>\n",
              "      <td>2509.000000</td>\n",
              "      <td>2509.000000</td>\n",
              "      <td>2509.000000</td>\n",
              "      <td>2509.000000</td>\n",
              "      <td>2509.000000</td>\n",
              "      <td>2509.000000</td>\n",
              "      <td>2509.000000</td>\n",
              "      <td>2509.000000</td>\n",
              "      <td>2509.000000</td>\n",
              "      <td>2509.000000</td>\n",
              "    </tr>\n",
              "    <tr>\n",
              "      <th>mean</th>\n",
              "      <td>651.453567</td>\n",
              "      <td>39.771622</td>\n",
              "      <td>5.009964</td>\n",
              "      <td>119730.116134</td>\n",
              "      <td>0.71383</td>\n",
              "      <td>0.497409</td>\n",
              "      <td>101113.435102</td>\n",
              "      <td>0.324432</td>\n",
              "      <td>9.024870</td>\n",
              "      <td>0.134303</td>\n",
              "      <td>17.526487</td>\n",
              "      <td>0.524512</td>\n",
              "      <td>0.537664</td>\n",
              "      <td>0.414508</td>\n",
              "      <td>0.038262</td>\n",
              "      <td>0.009566</td>\n",
              "    </tr>\n",
              "    <tr>\n",
              "      <th>std</th>\n",
              "      <td>98.168937</td>\n",
              "      <td>10.519143</td>\n",
              "      <td>2.935154</td>\n",
              "      <td>27022.006157</td>\n",
              "      <td>0.45206</td>\n",
              "      <td>0.500093</td>\n",
              "      <td>58263.011501</td>\n",
              "      <td>0.468256</td>\n",
              "      <td>214.286020</td>\n",
              "      <td>0.087680</td>\n",
              "      <td>5.349558</td>\n",
              "      <td>0.499498</td>\n",
              "      <td>0.498679</td>\n",
              "      <td>0.492735</td>\n",
              "      <td>0.191867</td>\n",
              "      <td>0.097354</td>\n",
              "    </tr>\n",
              "    <tr>\n",
              "      <th>min</th>\n",
              "      <td>350.000000</td>\n",
              "      <td>18.000000</td>\n",
              "      <td>0.000000</td>\n",
              "      <td>27288.430000</td>\n",
              "      <td>0.00000</td>\n",
              "      <td>0.000000</td>\n",
              "      <td>11.580000</td>\n",
              "      <td>0.000000</td>\n",
              "      <td>0.192582</td>\n",
              "      <td>0.000000</td>\n",
              "      <td>6.112676</td>\n",
              "      <td>0.000000</td>\n",
              "      <td>0.000000</td>\n",
              "      <td>0.000000</td>\n",
              "      <td>0.000000</td>\n",
              "      <td>0.000000</td>\n",
              "    </tr>\n",
              "    <tr>\n",
              "      <th>25%</th>\n",
              "      <td>584.000000</td>\n",
              "      <td>32.000000</td>\n",
              "      <td>2.000000</td>\n",
              "      <td>102800.720000</td>\n",
              "      <td>0.00000</td>\n",
              "      <td>0.000000</td>\n",
              "      <td>51016.020000</td>\n",
              "      <td>0.000000</td>\n",
              "      <td>0.783284</td>\n",
              "      <td>0.060606</td>\n",
              "      <td>13.686275</td>\n",
              "      <td>0.000000</td>\n",
              "      <td>0.000000</td>\n",
              "      <td>0.000000</td>\n",
              "      <td>0.000000</td>\n",
              "      <td>0.000000</td>\n",
              "    </tr>\n",
              "    <tr>\n",
              "      <th>50%</th>\n",
              "      <td>651.000000</td>\n",
              "      <td>38.000000</td>\n",
              "      <td>5.000000</td>\n",
              "      <td>119703.100000</td>\n",
              "      <td>1.00000</td>\n",
              "      <td>0.000000</td>\n",
              "      <td>102397.220000</td>\n",
              "      <td>0.000000</td>\n",
              "      <td>1.197220</td>\n",
              "      <td>0.125000</td>\n",
              "      <td>16.857143</td>\n",
              "      <td>1.000000</td>\n",
              "      <td>1.000000</td>\n",
              "      <td>0.000000</td>\n",
              "      <td>0.000000</td>\n",
              "      <td>0.000000</td>\n",
              "    </tr>\n",
              "    <tr>\n",
              "      <th>75%</th>\n",
              "      <td>722.000000</td>\n",
              "      <td>45.000000</td>\n",
              "      <td>8.000000</td>\n",
              "      <td>137560.380000</td>\n",
              "      <td>1.00000</td>\n",
              "      <td>1.000000</td>\n",
              "      <td>151083.800000</td>\n",
              "      <td>1.000000</td>\n",
              "      <td>2.400083</td>\n",
              "      <td>0.200000</td>\n",
              "      <td>20.852941</td>\n",
              "      <td>1.000000</td>\n",
              "      <td>1.000000</td>\n",
              "      <td>1.000000</td>\n",
              "      <td>0.000000</td>\n",
              "      <td>0.000000</td>\n",
              "    </tr>\n",
              "    <tr>\n",
              "      <th>max</th>\n",
              "      <td>850.000000</td>\n",
              "      <td>84.000000</td>\n",
              "      <td>10.000000</td>\n",
              "      <td>214346.960000</td>\n",
              "      <td>1.00000</td>\n",
              "      <td>1.000000</td>\n",
              "      <td>199970.740000</td>\n",
              "      <td>1.000000</td>\n",
              "      <td>10614.655440</td>\n",
              "      <td>0.500000</td>\n",
              "      <td>46.388889</td>\n",
              "      <td>1.000000</td>\n",
              "      <td>1.000000</td>\n",
              "      <td>1.000000</td>\n",
              "      <td>1.000000</td>\n",
              "      <td>1.000000</td>\n",
              "    </tr>\n",
              "  </tbody>\n",
              "</table>\n",
              "</div>\n",
              "      <button class=\"colab-df-convert\" onclick=\"convertToInteractive('df-a101fef4-4422-460f-a63e-95a50a8496ad')\"\n",
              "              title=\"Convert this dataframe to an interactive table.\"\n",
              "              style=\"display:none;\">\n",
              "        \n",
              "  <svg xmlns=\"http://www.w3.org/2000/svg\" height=\"24px\"viewBox=\"0 0 24 24\"\n",
              "       width=\"24px\">\n",
              "    <path d=\"M0 0h24v24H0V0z\" fill=\"none\"/>\n",
              "    <path d=\"M18.56 5.44l.94 2.06.94-2.06 2.06-.94-2.06-.94-.94-2.06-.94 2.06-2.06.94zm-11 1L8.5 8.5l.94-2.06 2.06-.94-2.06-.94L8.5 2.5l-.94 2.06-2.06.94zm10 10l.94 2.06.94-2.06 2.06-.94-2.06-.94-.94-2.06-.94 2.06-2.06.94z\"/><path d=\"M17.41 7.96l-1.37-1.37c-.4-.4-.92-.59-1.43-.59-.52 0-1.04.2-1.43.59L10.3 9.45l-7.72 7.72c-.78.78-.78 2.05 0 2.83L4 21.41c.39.39.9.59 1.41.59.51 0 1.02-.2 1.41-.59l7.78-7.78 2.81-2.81c.8-.78.8-2.07 0-2.86zM5.41 20L4 18.59l7.72-7.72 1.47 1.35L5.41 20z\"/>\n",
              "  </svg>\n",
              "      </button>\n",
              "      \n",
              "  <style>\n",
              "    .colab-df-container {\n",
              "      display:flex;\n",
              "      flex-wrap:wrap;\n",
              "      gap: 12px;\n",
              "    }\n",
              "\n",
              "    .colab-df-convert {\n",
              "      background-color: #E8F0FE;\n",
              "      border: none;\n",
              "      border-radius: 50%;\n",
              "      cursor: pointer;\n",
              "      display: none;\n",
              "      fill: #1967D2;\n",
              "      height: 32px;\n",
              "      padding: 0 0 0 0;\n",
              "      width: 32px;\n",
              "    }\n",
              "\n",
              "    .colab-df-convert:hover {\n",
              "      background-color: #E2EBFA;\n",
              "      box-shadow: 0px 1px 2px rgba(60, 64, 67, 0.3), 0px 1px 3px 1px rgba(60, 64, 67, 0.15);\n",
              "      fill: #174EA6;\n",
              "    }\n",
              "\n",
              "    [theme=dark] .colab-df-convert {\n",
              "      background-color: #3B4455;\n",
              "      fill: #D2E3FC;\n",
              "    }\n",
              "\n",
              "    [theme=dark] .colab-df-convert:hover {\n",
              "      background-color: #434B5C;\n",
              "      box-shadow: 0px 1px 3px 1px rgba(0, 0, 0, 0.15);\n",
              "      filter: drop-shadow(0px 1px 2px rgba(0, 0, 0, 0.3));\n",
              "      fill: #FFFFFF;\n",
              "    }\n",
              "  </style>\n",
              "\n",
              "      <script>\n",
              "        const buttonEl =\n",
              "          document.querySelector('#df-a101fef4-4422-460f-a63e-95a50a8496ad button.colab-df-convert');\n",
              "        buttonEl.style.display =\n",
              "          google.colab.kernel.accessAllowed ? 'block' : 'none';\n",
              "\n",
              "        async function convertToInteractive(key) {\n",
              "          const element = document.querySelector('#df-a101fef4-4422-460f-a63e-95a50a8496ad');\n",
              "          const dataTable =\n",
              "            await google.colab.kernel.invokeFunction('convertToInteractive',\n",
              "                                                     [key], {});\n",
              "          if (!dataTable) return;\n",
              "\n",
              "          const docLinkHtml = 'Like what you see? Visit the ' +\n",
              "            '<a target=\"_blank\" href=https://colab.research.google.com/notebooks/data_table.ipynb>data table notebook</a>'\n",
              "            + ' to learn more about interactive tables.';\n",
              "          element.innerHTML = '';\n",
              "          dataTable['output_type'] = 'display_data';\n",
              "          await google.colab.output.renderOutput(dataTable, element);\n",
              "          const docLink = document.createElement('div');\n",
              "          docLink.innerHTML = docLinkHtml;\n",
              "          element.appendChild(docLink);\n",
              "        }\n",
              "      </script>\n",
              "    </div>\n",
              "  </div>\n",
              "  "
            ],
            "text/plain": [
              "       CreditScore          Age       Tenure        Balance   HasCrCard  \\\n",
              "count  2509.000000  2509.000000  2509.000000    2509.000000  2509.00000   \n",
              "mean    651.453567    39.771622     5.009964  119730.116134     0.71383   \n",
              "std      98.168937    10.519143     2.935154   27022.006157     0.45206   \n",
              "min     350.000000    18.000000     0.000000   27288.430000     0.00000   \n",
              "25%     584.000000    32.000000     2.000000  102800.720000     0.00000   \n",
              "50%     651.000000    38.000000     5.000000  119703.100000     1.00000   \n",
              "75%     722.000000    45.000000     8.000000  137560.380000     1.00000   \n",
              "max     850.000000    84.000000    10.000000  214346.960000     1.00000   \n",
              "\n",
              "       IsActiveMember  EstimatedSalary       Exited  BalanceSalaryRatio  \\\n",
              "count     2509.000000      2509.000000  2509.000000         2509.000000   \n",
              "mean         0.497409    101113.435102     0.324432            9.024870   \n",
              "std          0.500093     58263.011501     0.468256          214.286020   \n",
              "min          0.000000        11.580000     0.000000            0.192582   \n",
              "25%          0.000000     51016.020000     0.000000            0.783284   \n",
              "50%          0.000000    102397.220000     0.000000            1.197220   \n",
              "75%          1.000000    151083.800000     1.000000            2.400083   \n",
              "max          1.000000    199970.740000     1.000000        10614.655440   \n",
              "\n",
              "       TenureByAge  CreditScoreGivenAge  Gender_Male  NumOfProducts_1  \\\n",
              "count  2509.000000          2509.000000  2509.000000      2509.000000   \n",
              "mean      0.134303            17.526487     0.524512         0.537664   \n",
              "std       0.087680             5.349558     0.499498         0.498679   \n",
              "min       0.000000             6.112676     0.000000         0.000000   \n",
              "25%       0.060606            13.686275     0.000000         0.000000   \n",
              "50%       0.125000            16.857143     1.000000         1.000000   \n",
              "75%       0.200000            20.852941     1.000000         1.000000   \n",
              "max       0.500000            46.388889     1.000000         1.000000   \n",
              "\n",
              "       NumOfProducts_2  NumOfProducts_3  NumOfProducts_4  \n",
              "count      2509.000000      2509.000000      2509.000000  \n",
              "mean          0.414508         0.038262         0.009566  \n",
              "std           0.492735         0.191867         0.097354  \n",
              "min           0.000000         0.000000         0.000000  \n",
              "25%           0.000000         0.000000         0.000000  \n",
              "50%           0.000000         0.000000         0.000000  \n",
              "75%           1.000000         0.000000         0.000000  \n",
              "max           1.000000         1.000000         1.000000  "
            ]
          },
          "execution_count": 31,
          "metadata": {},
          "output_type": "execute_result"
        }
      ],
      "source": [
        "# Ваш код здесь\n",
        "#Создаем следующие признаки\n",
        "churn_data['BalanceSalaryRatio'] = churn_data['Balance'] / churn_data['EstimatedSalary']\n",
        "churn_data['TenureByAge'] = churn_data['Tenure'] / churn_data['Age']\n",
        "churn_data['CreditScoreGivenAge'] = churn_data['CreditScore'] / churn_data['Age']\n",
        "\n",
        "#кодирование категориальных признаков\n",
        "\n",
        "churn_data['Gender_Male'] = churn_data['Gender'].apply(lambda x: 1 if x=='Male' else 0)\n",
        "churn_data.drop('Gender', axis=1, inplace=True)\n",
        "\n",
        "#churn_data = pd.get_dummies(churn_data, columns=['Gender'], drop_first=True)\n",
        "churn_data = churn_data.astype({'NumOfProducts': np.int})\n",
        "churn_data = pd.get_dummies(churn_data, columns=['NumOfProducts'])\n",
        "\n",
        "#основные статистические характеристики\n",
        "churn_data.describe()\n",
        "\n",
        "#plt.figure(figsize = (12, 7))\n",
        "#sns.heatmap(churn_data.corr(), annot = True);"
      ]
    },
    {
      "cell_type": "markdown",
      "id": "9cf0fd33",
      "metadata": {
        "id": "9cf0fd33"
      },
      "source": [
        "Разделим исходный набор данных на матрицу наблюдений `X` (фичи) и столбец ответов `y` (таргет). "
      ]
    },
    {
      "cell_type": "code",
      "execution_count": 32,
      "id": "a282c11f-485c-4148-be08-609ceee1cf8f",
      "metadata": {
        "id": "a282c11f-485c-4148-be08-609ceee1cf8f"
      },
      "outputs": [],
      "source": [
        "X = churn_data.drop(\"Exited\", axis=1)\n",
        "y = churn_data[\"Exited\"]"
      ]
    },
    {
      "cell_type": "markdown",
      "id": "d5c1b75a",
      "metadata": {
        "id": "d5c1b75a"
      },
      "source": [
        "Прежде чем перейти к этапу разделения выборки на тренировочную и тестовую, давайте посмотрим на сбалансированность данных. Для этого воспользуемся методом `value_counts()` и выведем количество наблюдений каждого из классов в долевом соотношении от общего количества наблюдений:"
      ]
    },
    {
      "cell_type": "code",
      "execution_count": 33,
      "id": "8940b979-7d39-4bf1-93b0-e1b41d7ed78b",
      "metadata": {
        "colab": {
          "base_uri": "https://localhost:8080/"
        },
        "id": "8940b979-7d39-4bf1-93b0-e1b41d7ed78b",
        "outputId": "fcf242ec-0d1c-4ad8-ef29-75b1248ad3ca"
      },
      "outputs": [
        {
          "data": {
            "text/plain": [
              "0    0.675568\n",
              "1    0.324432\n",
              "Name: Exited, dtype: float64"
            ]
          },
          "execution_count": 33,
          "metadata": {},
          "output_type": "execute_result"
        }
      ],
      "source": [
        "y.value_counts(normalize=True)"
      ]
    },
    {
      "cell_type": "markdown",
      "id": "ef964f7a",
      "metadata": {
        "id": "ef964f7a"
      },
      "source": [
        "Очевидно, что классы не сбалансированы. Ушедших пользователей 32 %, в то время как лояльных — 68 %.\n"
      ]
    },
    {
      "cell_type": "markdown",
      "id": "bfeb6192",
      "metadata": {
        "id": "bfeb6192"
      },
      "source": [
        "**К чему это может привести?**\n",
        "\n",
        "При разделении набора данных на тренировочный и тестовый может возникнуть такая ситуация, что в тренировочную выборку попадут только лояльные клиенты или их большая часть. Тогда модель может не научиться определять вероятность оттока и качество на тестовой выборке будет неудовлетворительным.\n",
        "\n",
        "Или противоположная ситуация: в тестовую выборку попадут только лояльные клиенты. Тогда модель будет показывать отличное качество на тестовой выборке, но в реальных условиях она может оказаться бесполезной.\n",
        "\n",
        "То есть нам нужно сделать так, чтобы в тренировочной и тестовой выборке было одинаковое соотношение лояльных и ушедших клиентов. Такое разбиение выборки называется **стратифицированным**. \n",
        "\n",
        "Функция `train_test_split()` из библиотеки `sklearn` умеет производить такое разбиение. Для этого в ней предусмотрен параметр `stratify`, который нужно выставить в значение признака, который должен иметь одинаковые соотношения в тренировочной и тестовой выборке. У нас этот признак - это целевой признак y. \n",
        "\n",
        "Выполним разбиение, установив значение параметра `random_state` на 0:\n"
      ]
    },
    {
      "cell_type": "code",
      "execution_count": 34,
      "id": "8324900d-fd13-43b4-b025-5578d6e024ef",
      "metadata": {
        "colab": {
          "base_uri": "https://localhost:8080/"
        },
        "id": "8324900d-fd13-43b4-b025-5578d6e024ef",
        "outputId": "ce64a1b7-d768-4017-9b9c-3d0148614448"
      },
      "outputs": [
        {
          "name": "stdout",
          "output_type": "stream",
          "text": [
            "Train shape: (1881, 15)\n",
            "Test shape: (628, 15)\n"
          ]
        }
      ],
      "source": [
        "X_train, X_test, y_train, y_test = model_selection.train_test_split(\n",
        "    X, y, \n",
        "    stratify=y, \n",
        "    random_state=0\n",
        ")\n",
        "print('Train shape: {}'.format(X_train.shape))\n",
        "print('Test shape: {}'.format(X_test.shape))"
      ]
    },
    {
      "cell_type": "markdown",
      "id": "14b621e0",
      "metadata": {
        "id": "14b621e0"
      },
      "source": [
        "Проверим, что число лояльных и ушедших клиентов примерно одинаково в каждой из выборок:"
      ]
    },
    {
      "cell_type": "code",
      "execution_count": 35,
      "id": "1c34715f-9a79-490f-866a-72c596c6a0dd",
      "metadata": {
        "colab": {
          "base_uri": "https://localhost:8080/",
          "height": 191
        },
        "id": "1c34715f-9a79-490f-866a-72c596c6a0dd",
        "outputId": "70ff5e59-3519-4ed4-f486-00db43200afd"
      },
      "outputs": [
        {
          "name": "stdout",
          "output_type": "stream",
          "text": [
            "Train :\n"
          ]
        },
        {
          "data": {
            "text/plain": [
              "0    0.675704\n",
              "1    0.324296\n",
              "Name: Exited, dtype: float64"
            ]
          },
          "metadata": {},
          "output_type": "display_data"
        },
        {
          "name": "stdout",
          "output_type": "stream",
          "text": [
            "\n",
            "\n",
            "Test :\n"
          ]
        },
        {
          "data": {
            "text/plain": [
              "0    0.675159\n",
              "1    0.324841\n",
              "Name: Exited, dtype: float64"
            ]
          },
          "metadata": {},
          "output_type": "display_data"
        }
      ],
      "source": [
        "print('Train :')\n",
        "display(y_train.value_counts(normalize=True))\n",
        "print('\\n')\n",
        "print('Test :', )\n",
        "display(y_test.value_counts(normalize=True))"
      ]
    },
    {
      "cell_type": "markdown",
      "id": "76401ead",
      "metadata": {
        "id": "76401ead"
      },
      "source": [
        "Соотношения одинаковы, а значит, мы можем перейти к следующему шагу."
      ]
    },
    {
      "cell_type": "markdown",
      "id": "0f623386",
      "metadata": {
        "id": "0f623386"
      },
      "source": [
        "### Задание 5.2 (1 балл)\n",
        "\n",
        "Позаботьтесь о масштабировании признаков. Проведите нормализацию/стандартизацию матрицы наблюдений `X` с помощью `MinMaxScaler`/`RobustScaler` или `StandardScaler`. Выберите метод самостоятельно.\n",
        "\n",
        "Обучите один из предложенных скейлеров на тренировочной выборке (вычислите параметры трансформации) и примените трансформацию данных к тренировочной и тестовой выборкам."
      ]
    },
    {
      "cell_type": "markdown",
      "id": "dda27421",
      "metadata": {
        "id": "dda27421"
      },
      "source": [
        "**Критерии оценивания:**\n",
        "- Задание выполнено верно, учтены все условия (**1 балл**): \n",
        "    * приведён код для создания одного из вариантов скейлеров для масштабирования данных;\n",
        "    * приведён код для расчёта параметров трансформации (обучение скейлера) на тренировочной выборке;\n",
        "    * приведён код для трансформации тренировочных и тестовых данных (признаков) в соответствии с вычисленными параметрами.\n",
        "\n",
        "- Задание выполнено неверно, не учтено одно или несколько условий (**0 баллов**)."
      ]
    },
    {
      "cell_type": "code",
      "execution_count": 36,
      "id": "0e1f264e",
      "metadata": {
        "id": "0e1f264e"
      },
      "outputs": [],
      "source": [
        "# Ваш код здесь\n",
        "scaler = preprocessing.MinMaxScaler()\n",
        "scaler.fit(X_train)\n",
        "X_train_scaled = scaler.transform(X_train)\n",
        "X_test_scaled = scaler.transform(X_test)"
      ]
    },
    {
      "cell_type": "markdown",
      "id": "66527b15",
      "metadata": {
        "id": "66527b15"
      },
      "source": [
        "Теперь переходим к моделированию."
      ]
    },
    {
      "cell_type": "markdown",
      "id": "69df2d66",
      "metadata": {
        "id": "69df2d66"
      },
      "source": [
        "### Задание 5.3 (1 балл)\n",
        "\n",
        "Для начала давайте заранее определим метрику, на которую будем ориентироваться. \n",
        "\n",
        "По условию задачи, наша модель должна своевременно предсказывать отток клиентов. Известно, что для сохранения клиентов банк будет использовать ресурсы колл-центра и клиентам, у которых вероятность оттока наиболее высока, будут сделаны специальные предложения. Ресурсы, выделяемые на сохранение клиентов, ограничены, поэтому нам важно минимизировать количество звонков. Однако в то же время необходимо сохранить как можно больше клиентов.\n",
        "\n",
        "Таким образом, нам бы хотелось минимизировать как ложноположительные и ложноотрицательные срабатывания модели.\n",
        "\n",
        "Какую метрику в данной задаче вы будете пытаться улучшить? Обоснуйте свой выбор. \n"
      ]
    },
    {
      "cell_type": "markdown",
      "id": "d85450e0",
      "metadata": {
        "id": "d85450e0"
      },
      "source": [
        "> Укажите название метрики и обоснования своего выбора здесь\n",
        "\n",
        "*F1-мера: нужно определить кто из клиентов с большей вероятностью уйдет, т.е. точность должна быть максимальной, но при этом важно не пропустить таких клиентов.*"
      ]
    },
    {
      "cell_type": "markdown",
      "id": "9c4e72a3",
      "metadata": {
        "id": "9c4e72a3"
      },
      "source": [
        "**Критерии оценивания:**\n",
        "- Задание выполнено верно, учтены все условия (**1 балл**): \n",
        "    * выбрана верная метрика;\n",
        "    * приведено развернутое обоснование выбора метрики, и приведенные рассуждения являются верными;\n",
        "\n",
        "- Задание выполнено неверно, не учтено одно или несколько условий (**0 баллов**)."
      ]
    },
    {
      "cell_type": "markdown",
      "id": "AOgaRpo53tgp",
      "metadata": {
        "id": "AOgaRpo53tgp"
      },
      "source": [
        "> Ваши рассуждения и ответ — *здесь*.\n",
        "\n",
        "*Метрика Accuracy отпадает, потому что данные не сбалансированы. Т.к. нам нужно и точность предсказания (precision) и полноту (recall) предсказания ухода клиентов, то мы будем использовать взвешенное среднее гармоническое между precision и recall - **F1-меру**.*"
      ]
    },
    {
      "cell_type": "markdown",
      "id": "34e0666e",
      "metadata": {
        "id": "34e0666e"
      },
      "source": [
        "### Задание 5.4 (2 балла)\n",
        "\n",
        "Обучите модель логистической регрессии (`Logistic Regression`) на тренировочных данных. Позаботьтесь о воспроизводимости результата, установив конкретное значение параметра `random_state` (например, число 42).\n",
        "\n",
        "Сделайте предсказание меток классов для тренировочной и тестовой выборок. \n",
        "\n",
        "Рассчитайте значение целевой метрики на тренировочной и тестовой выборках. \n",
        "\n",
        "Проинтерпретируйте полученные результаты, ответив на следующий вопрос:\n",
        "* Как вы считаете, является ли ваша модель переобученной или недообученной?\n",
        "\n",
        "> **Примечание.** Будем считать, что модель нас не удовлетворяет (считается недообученной), если значение целевой метрики на тестовой выборке меньше 0.5.\n",
        "\n",
        "**Дополнительное задание:**\n",
        "\n",
        "Попробуйте поуправлять следующими параметрами модели:\n",
        "* `penalty` — тип используемой регуляризации ('l1' — $L_1$-регуляризация, 'l2' — $L_2$-регуляризация);\n",
        "* `C` — коэффициент, обратный коэффициенту регуляризации (по умолчанию он равен 1).\n",
        "\n",
        "Понаблюдайте, как ведут себя метрики в зависимости от типа регуляризации и увеличения/уменьшения значения парамера `C`."
      ]
    },
    {
      "cell_type": "markdown",
      "id": "8a1f5868",
      "metadata": {
        "id": "8a1f5868"
      },
      "source": [
        "**Критерии оценивания:**\n",
        "- Задание выполнено верно, учтены все условия (**2 балла**): \n",
        "    * построена модель логистической регрессии, решающая поставленную задачу;\n",
        "    * с помощью полученной модели сформированы предсказания на тренировочной и тестовой выборках;\n",
        "    * приведён расчёт выбранной метрики на тренировочных и тестовых данных (метрика должна быть выбрана корректно);\n",
        "    * приведён небольшой вывод по полученным результатам, в котором содержится ответ на поставленный в задании вопрос.\n",
        "\n",
        "- Задание выполнено верно, но не приведён вывод по полученным результатам или вывод является неверным (**1 балл**).\n",
        "- Задание выполнено неверно, не учтено несколько условий (**0 баллов**)."
      ]
    },
    {
      "cell_type": "code",
      "execution_count": 37,
      "id": "f47fa732",
      "metadata": {
        "colab": {
          "base_uri": "https://localhost:8080/"
        },
        "id": "f47fa732",
        "outputId": "90b8a6f0-7bca-4130-e2d1-40911a3c2802"
      },
      "outputs": [
        {
          "name": "stdout",
          "output_type": "stream",
          "text": [
            "              precision    recall  f1-score   support\n",
            "\n",
            "           0       0.81      0.88      0.85      1271\n",
            "           1       0.70      0.57      0.63       610\n",
            "\n",
            "    accuracy                           0.78      1881\n",
            "   macro avg       0.76      0.73      0.74      1881\n",
            "weighted avg       0.78      0.78      0.78      1881\n",
            "\n",
            "              precision    recall  f1-score   support\n",
            "\n",
            "           0       0.81      0.88      0.84       424\n",
            "           1       0.69      0.56      0.62       204\n",
            "\n",
            "    accuracy                           0.77       628\n",
            "   macro avg       0.75      0.72      0.73       628\n",
            "weighted avg       0.77      0.77      0.77       628\n",
            "\n"
          ]
        }
      ],
      "source": [
        "# Ваш код здесь\n",
        "#Создаем объект класса логистическая регрессия\n",
        "\n",
        "log_reg = linear_model.LogisticRegression(\n",
        "  #  solver='sag', #алгоритм оптимизации\n",
        "    random_state=42, #генератор случайных чисел\n",
        "    max_iter=1000, #количество итераций на сходимость\n",
        "    penalty='l2',\n",
        "    C=2\n",
        ")\n",
        "#Обучаем модель, минимизируя logloss\n",
        "log_reg.fit(X_train_scaled, y_train)\n",
        "\n",
        "#Делаем предсказание для тренировочной выборки\n",
        "y_train_pred = log_reg.predict(X_train_scaled)\n",
        "#Вывод отчет о метриках классификации\n",
        "print(metrics.classification_report(y_train, y_train_pred))\n",
        "#Делаем предсказание для тестовой выборки\n",
        "y_test_pred = log_reg.predict(X_test_scaled)\n",
        "#Вывод отчет о метриках классификации\n",
        "print(metrics.classification_report(y_test, y_test_pred))"
      ]
    },
    {
      "cell_type": "markdown",
      "id": "9258c527",
      "metadata": {
        "id": "9258c527"
      },
      "source": [
        "> Ваши выводы и рассуждения — *здесь*.\n",
        "\n",
        "*Если признак \"Gender\" кодировать с помощью get_dummies получаем модель, которая бедет недообучена и тестовая метрика F1-мера меньше 0,5.\n",
        "Но в нашем случае, кодирования при помощи lambda-функции метрика равна 0.62 Регуляризация L2, при С=2, улучшила значение тестовой метрики только на 0,01.*"
      ]
    },
    {
      "cell_type": "markdown",
      "id": "e6709b8d",
      "metadata": {
        "id": "e6709b8d"
      },
      "source": [
        "### Задание 5.5 (2 балла)\n",
        "\n",
        "Сгенерируйте полиномиальные признаки третьей степени для тренировочной и тестовой выборок. Используйте класс `PolynomialFeatures` из библиотеки `sklearn`. Параметр `include_bias` выставите в значение `False`.\n",
        "\n",
        "> **Примечание.** Обратите внимание, что для генерации полиномов необходимо использовать масштабированные данные.\n",
        "\n",
        "Обучите модель логистической регрессии на полиномиальных признаках (`Logistic Regression`). Позаботьтесь о воспроизводимости результат, установив конкретное значение параметра `random_state` (например, число 42).\n",
        "\n",
        "Предскажите метки классов для тренировочной и тестовой выборок.\n",
        "\n",
        "Рассчитайте значение целевой метрики на тренировочной и тестовой выборках для модели, обученной на полиномиальных признаках.\n",
        "\n",
        "Сравните результат с полученным ранее. Удалось ли вам улучшить качество вашей модели?\n",
        "\n",
        "**Дополнительное задание:**\n",
        "\n",
        "Попробуйте поуправлять следующими параметрами модели:\n",
        "* `penalty` — тип используемой регуляризации ('l1' — $L_1$-регуляризация, 'l2' — $L_2$-регуляризация);\n",
        "* `C` — коэффициент, обратный коэффициенту регуляризации (по умолчанию он равен 1).\n",
        "\n",
        "Понаблюдайте, как ведут себя метрики в зависимости от типа регуляризации и увеличения/уменьшения значения парамера `C`."
      ]
    },
    {
      "cell_type": "markdown",
      "id": "af02d772",
      "metadata": {
        "id": "af02d772"
      },
      "source": [
        "**Критерии оценивания:**\n",
        "- Задание выполнено верно, учтены все условия (**2 балла**): \n",
        "    * сгенерированы полиномиальные признаки третьей степени;\n",
        "    * построена модель логистической регрессии, решающая поставленную задачу на основе сгенерированных признаков;\n",
        "    * с помощью полученной модели сформированы предсказания на тренировочной и тестовой выборках;\n",
        "    * приведён расчёт выбранной метрики на тренировочных и тестовых данных (метрика должна быть выбрана корректно);\n",
        "    * приведён небольшой вывод по полученным результатам, в котором содержится корректный ответ на поставленный в задании вопрос.\n",
        "\n",
        "- Задание выполнено верно, но не приведён вывод по полученным результатам или вывод является неверным (**1 балл**).\n",
        "- Задание выполнено неверно, не учтено несколько условий (**0 баллов**)."
      ]
    },
    {
      "cell_type": "code",
      "execution_count": 38,
      "id": "23315092",
      "metadata": {
        "colab": {
          "base_uri": "https://localhost:8080/"
        },
        "id": "23315092",
        "outputId": "9462bb36-ad18-498e-c694-fbe7d95fa8cb"
      },
      "outputs": [
        {
          "name": "stdout",
          "output_type": "stream",
          "text": [
            "Train shape: (1881, 815)\n",
            "Test shape: (628, 815)\n",
            "              precision    recall  f1-score   support\n",
            "\n",
            "           0       0.86      0.91      0.88      1271\n",
            "           1       0.79      0.68      0.73       610\n",
            "\n",
            "    accuracy                           0.84      1881\n",
            "   macro avg       0.82      0.80      0.81      1881\n",
            "weighted avg       0.84      0.84      0.83      1881\n",
            "\n",
            "              precision    recall  f1-score   support\n",
            "\n",
            "           0       0.83      0.88      0.85       424\n",
            "           1       0.72      0.62      0.67       204\n",
            "\n",
            "    accuracy                           0.80       628\n",
            "   macro avg       0.77      0.75      0.76       628\n",
            "weighted avg       0.79      0.80      0.79       628\n",
            "\n"
          ]
        }
      ],
      "source": [
        "# Ваш код здесь\n",
        "#Создаем объект для генерации полиномиальных признаков степени 3\n",
        "poly = preprocessing.PolynomialFeatures(degree=3, include_bias=False)\n",
        "#Вычисляем параметры генерации - результирующее количество признак\n",
        "poly.fit(X_train_scaled)\n",
        "#Производим преобразование для каждой из выборок\n",
        "X_train_scaled_poly = poly.transform(X_train_scaled)\n",
        "X_test_scaled_poly = poly.transform(X_test_scaled)\n",
        "\n",
        "print('Train shape: {}'.format(X_train_scaled_poly.shape))\n",
        "print('Test shape: {}'.format(X_test_scaled_poly.shape))\n",
        "\n",
        "#Создаем объект класса логистическая регрессия\n",
        "\n",
        "log_reg = linear_model.LogisticRegression(\n",
        "  #  solver='sag', #алгоритм оптимизации\n",
        "    random_state=42, #генератор случайных чисел\n",
        "    max_iter=1000, #количество итераций на сходимость\n",
        "    penalty='l2',\n",
        "    C=15\n",
        ")\n",
        "#Обучаем модель, минимизируя logloss\n",
        "log_reg.fit(X_train_scaled_poly, y_train)\n",
        "\n",
        "#Делаем предсказание для тренировочной выборки\n",
        "y_train_pred = log_reg.predict(X_train_scaled_poly)\n",
        "#Вывод отчет о метриках классификации\n",
        "print(metrics.classification_report(y_train, y_train_pred))\n",
        "#Делаем предсказание для тестовой выборки\n",
        "y_test_pred = log_reg.predict(X_test_scaled_poly)\n",
        "#Вывод отчет о метриках классификации\n",
        "print(metrics.classification_report(y_test, y_test_pred))"
      ]
    },
    {
      "cell_type": "markdown",
      "id": "4e7d4e3e",
      "metadata": {
        "id": "4e7d4e3e"
      },
      "source": [
        "> Ваши выводы и рассуждения — *здесь*\n",
        "\n",
        "*Качество модели улучшилось по сравнению с предыдущим. Метрика F1-мера равна 0,67, с учетом регуляризации L2=15.*"
      ]
    },
    {
      "cell_type": "markdown",
      "id": "8dc563a4",
      "metadata": {
        "id": "8dc563a4"
      },
      "source": [
        "### Задание 5.6. (2 балла)\n",
        "\n",
        "\n",
        "Попробуйте подобрать значение порога вероятности, при котором наблюдается наибольшее значение целевой метрики на тестовой выборке. В качестве модели используйте логистическую регрессию, обученную на полиномиальных признаках. \n",
        "\n",
        "В качестве порога вероятности используйте значения из следующего диапазона:\n",
        "\n",
        "`thresholds = np.arange(0.1, 1, 0.05)`\n",
        "\n",
        "Напомним алгоритм, как определить оптимальный порог вероятности:\n",
        "* Предсказать вероятности оттока для каждого клиента из тестовой выборки.\n",
        "* В цикле перебрать значения порогов вероятности threshold:\n",
        "    * Сделать предсказание класса по принципу: если вероятность > threshold, то отнести объект к классу 1, в противном случае — к классу 0.\n",
        "    * Рассчитать метрику и занести её в заранее созданный список.\n",
        "\n",
        "Для реализации алгоритма подбора вы можете воспользоваться шаблоном кода, приведённым ниже:\n",
        "\n",
        "```python\n",
        "# Делаем предсказание вероятности оттока для каждого клиента из тестовой выборки\n",
        "y_test_proba_pred = pd.Series(model.predict_proba(X_test_poly)[:, 1])\n",
        "# Инициализируем список, куда будем сохранять метрики.\n",
        "scores = []\n",
        "# Задаём значения порогов вероятности\n",
        "thresholds = np.arange(0.1, 1, 0.05)\n",
        "# В цикле перебираем значения порогов вероятности\n",
        "for threshold in thresholds:\n",
        "    # Делаем предсказание\n",
        "    y_test_pred_poly = y_test_proba_pred.apply(lambda x: 1 if x > threshold else 0)\n",
        "    # Рассчитываем метрику\n",
        "    score = # код для вычисления метрики\n",
        "    # Добавляем результат в список\n",
        "    scores.append(score)\n",
        "```\n",
        "\n",
        "Постройте график зависимости целевой метрики от порога вероятности. На основе построенного графика определите порог вероятности, которому соответствует наибольшее значение целевой метрики на тестовой выборке.\n",
        "\n",
        "Сделайте предсказание классов с подобранным оптимальным порогом вероятности. Рассчитайте значение целевой метрики на тестовой выборке и сравните результат с полученными ранее.\n"
      ]
    },
    {
      "cell_type": "markdown",
      "id": "efc4a3c0",
      "metadata": {
        "id": "efc4a3c0"
      },
      "source": [
        "**Критерии оценивания:**\n",
        "- Задание выполнено верно, учтены все условия (**2 балла**): \n",
        "    * приведён код для построения графика зависимости значения выбранной метрики от порога вероятности;\n",
        "    * найден оптимальный порог вероятности, на котором достигается наибольшее значение выбранной метрики на тестовой выборке;\n",
        "    * на основе найденного порога вероятности построено предсказание модели для тренировочной и тестовой выборок;\n",
        "    * приведён расчёт выбранной метрики на тренировочных и тестовых данных (метрика должна быть выбрана корректно).\n",
        "\n",
        "- Задание выполнено верно, но не приведён вывод по полученным результатам или вывод является неверным (**1 балл**).\n",
        "- Задание выполнено неверно, не учтено несколько условий (**0 баллов**)."
      ]
    },
    {
      "cell_type": "code",
      "execution_count": 46,
      "id": "oYs8-MFYSNxX",
      "metadata": {
        "colab": {
          "base_uri": "https://localhost:8080/",
          "height": 566
        },
        "id": "oYs8-MFYSNxX",
        "outputId": "a6a909a8-7d99-4dfe-9d27-b6932bde6b94"
      },
      "outputs": [
        {
          "name": "stdout",
          "output_type": "stream",
          "text": [
            "              precision    recall  f1-score   support\n",
            "\n",
            "           0       0.87      0.84      0.85       424\n",
            "           1       0.69      0.73      0.71       204\n",
            "\n",
            "    accuracy                           0.80       628\n",
            "   macro avg       0.78      0.79      0.78       628\n",
            "weighted avg       0.81      0.80      0.81       628\n",
            "\n"
          ]
        },
        {
          "data": {
            "image/png": "[encoded data removed]",
            "text/plain": [
              "<Figure size 1000x400 with 1 Axes>"
            ]
          },
          "metadata": {},
          "output_type": "display_data"
        }
      ],
      "source": [
        "# Ваш код здесь\n",
        "\n",
        "# Делаем предсказание вероятности оттока для каждого клиента из тестовой выборки\n",
        "y_test_proba_pred = pd.Series(log_reg.predict_proba(X_test_scaled_poly)[:, 1])\n",
        "#Создадим списки, в которых будем хранить значения метрик \n",
        "recall_scores = []\n",
        "precision_scores = []\n",
        "f1_scores = []\n",
        "#Сгенерируем набор вероятностных порогов в диапазоне от 0.1 до 1\n",
        "thresholds = np.arange(0.1, 1, 0.05)\n",
        "#В цикле будем перебирать сгенерированные пороги\n",
        "for threshold in thresholds:\n",
        "    #В противном случае - к классу 0\n",
        "    y_test_pred = y_test_proba_pred.apply(lambda x: 1 if x>threshold else 0)\n",
        "    #Считаем метрики и добавляем их в списки\n",
        "    recall_scores.append(metrics.recall_score(y_test, y_test_pred))\n",
        "    precision_scores.append(metrics.precision_score(y_test, y_test_pred))\n",
        "    f1_scores.append(metrics.f1_score(y_test, y_test_pred))\n",
        "\n",
        "#Визуализируем метрики при различных threshold\n",
        "fig, ax = plt.subplots(figsize=(10, 4)) \n",
        "#Строим линейный график зависимости recall от threshold\n",
        "ax.plot(thresholds, recall_scores, label='Recall')\n",
        "#Строим линейный график зависимости precision от threshold\n",
        "ax.plot(thresholds, precision_scores, label='Precision')\n",
        "\n",
        "#Строим линейный график зависимости F1 от threshold\n",
        "ax.plot(thresholds, f1_scores, label='F1-score')\n",
        "#Даем графику название и подписи осям\n",
        "ax.set_title('Recall/Precision dependence on the threshold')\n",
        "ax.set_xlabel('Probability threshold')\n",
        "ax.set_ylabel('Score')\n",
        "ax.legend();\n",
        "\n",
        "\n",
        "#Задаем оптимальный порог вероятностей\n",
        "threshold_opt = 0.41\n",
        "y_test_pred_opt = y_test_proba_pred.apply(lambda x: 1 if x > threshold_opt else 0)\n",
        "#Считаем метрики\n",
        "print(metrics.classification_report(y_test, y_test_pred_opt))\n"
      ]
    },
    {
      "cell_type": "markdown",
      "id": "HwnvtZL2fe9b",
      "metadata": {
        "id": "HwnvtZL2fe9b"
      },
      "source": [
        "*Вывод: Модель улучшилась и получили f1-score=0,71. Также precision и recall находятся на одном уровне 0.69 и 0.73 соответственно. Минимизированы как ложноположительные так ложноотрицательные срабатывания модели.*"
      ]
    },
    {
      "cell_type": "markdown",
      "id": "ae809d58",
      "metadata": {
        "id": "ae809d58"
      },
      "source": [
        "## Практика: деревья решений и случайный лес"
      ]
    },
    {
      "cell_type": "markdown",
      "id": "32dd8694",
      "metadata": {
        "id": "32dd8694"
      },
      "source": [
        "Мы продолжаем решать задачу прогнозирования оттока клиентов банка.\n",
        "\n",
        "Ранее мы построили модель логистической регрессии, затем добавили в модель полиномиальные признаки и подобрали оптимальный порог вероятности для логистической регрессии.\n",
        "\n",
        "> Теперь попробуем решить задачу с помощью деревьев решений и лесов.\n",
        "\n",
        "\n",
        "> **Примечание №1.** Для выполнения дальнейших заданий необходимо совершить уже знакомые шаги предобработки с данными об оттоке клиентов банка, а именно:\n",
        "* выделить данные, относящиеся к отделениям банка в Германии;\n",
        "* избавиться от заведомо неинформативных признаков;\n",
        "* расширить датасет путём добавления новых признаков;\n",
        "* разделить выборку на тренировочную и тестовую со стратификацией.\n",
        "\n",
        "> **Примечание №2.** Деревья решений — алгоритм, способный уловить нелинейные зависимости. Генерация полиномиальных признаков практически не имеет значения.\n",
        "Также деревья решений не чувствительны к масштабу признаков. Масштабирование исходных данных не играет роли при построении деревьев решения.\n",
        "Поэтому для решения задачи используйте обучающую (`X_train`, `y_train`) и тестовую (`X_test`, `y_test`) выборки без полиномиальных столбцов.\n"
      ]
    },
    {
      "cell_type": "code",
      "execution_count": 47,
      "id": "9fcfcba4",
      "metadata": {
        "colab": {
          "base_uri": "https://localhost:8080/"
        },
        "id": "9fcfcba4",
        "outputId": "e0831bf7-0a58-4b00-e98b-d6decdc57fef"
      },
      "outputs": [
        {
          "name": "stdout",
          "output_type": "stream",
          "text": [
            "Train shape: (1881, 15)\n",
            "Test shape: (628, 15)\n"
          ]
        }
      ],
      "source": [
        "X_train, X_test, y_train, y_test = model_selection.train_test_split(\n",
        "    X, y, \n",
        "    stratify=y, \n",
        "    random_state=0\n",
        ")\n",
        "print('Train shape: {}'.format(X_train.shape))\n",
        "print('Test shape: {}'.format(X_test.shape))"
      ]
    },
    {
      "cell_type": "markdown",
      "id": "48LgpXuJt_nL",
      "metadata": {
        "id": "48LgpXuJt_nL"
      },
      "source": [
        "Импортируем необходимые для выполнения практики модули:"
      ]
    },
    {
      "cell_type": "code",
      "execution_count": 48,
      "id": "4b23febd-6403-4b0a-a024-28f27c240729",
      "metadata": {
        "id": "4b23febd-6403-4b0a-a024-28f27c240729"
      },
      "outputs": [],
      "source": [
        "from sklearn import tree\n",
        "from sklearn import ensemble"
      ]
    },
    {
      "cell_type": "markdown",
      "id": "4r3hncEEfx8T",
      "metadata": {
        "id": "4r3hncEEfx8T"
      },
      "source": [
        "Приступим! Выполните задания 8.1–8.4."
      ]
    },
    {
      "cell_type": "markdown",
      "id": "b57000af",
      "metadata": {
        "id": "b57000af"
      },
      "source": [
        "### Задание 8.1. (2 балла)\n",
        "\n",
        "Обучите на тренировочной выборке дерево решений из библиотеки `sklearn` (`DecisionTreeClassifier`) с неограниченной максимальной глубиной дерева. В качестве критерия информативности используйте энтропию Шеннона, остальные параметры оставьте по умолчанию. \n",
        "\n",
        "Также позаботьтесь о воспроизводимости результатов, установив конкретное  значение `random_state` (например, число 42). \n",
        "\n",
        "Сделайте предсказания для тренировочной и тестовой выборок. Рассчитайте значение целевой метрики на каждой из выборок.\n",
        "\n",
        "Сделайте вывод, ответив на вопрос:\n",
        "* Как вы считаете, является полученная модель переобученной или недообученной? Попробуйте дать обоснование, почему так происходит.\n"
      ]
    },
    {
      "cell_type": "markdown",
      "id": "52fdb449",
      "metadata": {
        "id": "52fdb449"
      },
      "source": [
        "**Критерии оценивания:**\n",
        "- Задание выполнено верно, учтены все условия (**2 балла**): \n",
        "    * построена модель дерева решений с заданными в условии задачи параметрами;\n",
        "    * с помощью полученной модели сформированы предсказания для тренировочной и тестовой выборок;\n",
        "    * приведён расчёт выбранной метрики на тренировочных и тестовых данных (метрика должна быть выбрана корректно);\n",
        "    * приведён небольшой вывод по полученным результатам, в котором содержится корректный ответ на поставленный в задании вопрос, а также обоснование полученного результата.\n",
        "\n",
        "- Задание выполнено верно, но не приведено обоснование полученного результата или обоснование является некорректным (**1 балл**).\n",
        "- Задание выполнено неверно, не учтено несколько условий (**0 баллов**)."
      ]
    },
    {
      "cell_type": "code",
      "execution_count": 49,
      "id": "59a61357",
      "metadata": {
        "colab": {
          "base_uri": "https://localhost:8080/"
        },
        "id": "59a61357",
        "outputId": "f5f1ff40-c976-4773-b846-b74611fb2073"
      },
      "outputs": [
        {
          "name": "stdout",
          "output_type": "stream",
          "text": [
            "Train: 1.00\n",
            "Test: 0.57\n"
          ]
        }
      ],
      "source": [
        "# Ваш код здесь\n",
        "#Создаем объект класса дерево решений\n",
        "dt = tree.DecisionTreeClassifier(\n",
        "    criterion='entropy',\n",
        "    #min_samples_leaf=5,\n",
        "    #max_depth=8,\n",
        "    random_state=42\n",
        ")\n",
        "#Обучаем дерево по алгоритму CART\n",
        "dt.fit(X_train, y_train)\n",
        "#Выводим значения метрики \n",
        "y_train_pred = dt.predict(X_train)\n",
        "print('Train: {:.2f}'.format(metrics.f1_score(y_train, y_train_pred)))\n",
        "y_test_pred = dt.predict(X_test)\n",
        "print('Test: {:.2f}'.format(metrics.f1_score(y_test, y_test_pred)))"
      ]
    },
    {
      "cell_type": "markdown",
      "id": "40d5e039",
      "metadata": {
        "id": "40d5e039"
      },
      "source": [
        "> Ваши выводы и рассуждения — *здесь*\n",
        "\n",
        "*Модель переобучена. Модель без ограничений разобрала всевозможные выборы на предоставленном наборе данных и получили метрику F1_score на train = 1. А для новых данных не хватает гибкости. Метрика на test = 0.57*"
      ]
    },
    {
      "cell_type": "markdown",
      "id": "ab0187f6",
      "metadata": {
        "id": "ab0187f6"
      },
      "source": [
        "### Задание 8.2. (1 балл)\n",
        "\n",
        "Давайте «подстрижём» наше дерево. \n",
        "\n",
        "Обучите на тренировочной выборке дерево решений из библиотеки `sklearn` (`DecisionTreeClassifier`) с максимальной глубиной 8. В качестве критерия информативности используйте энтропию Шеннона, минимальное число объектов в листе (количество объектов, при которых дерево прекратит делиться и образуется лист) — 10.\n",
        "\n",
        "Также позаботьтесь о воспроизводимости результатов, установив конкретное значение `random_state` (например, число 42).\n",
        "\n",
        "Сделайте предсказания для тренировочной и тестовой выборок. Рассчитайте значение целевой метрики на каждой из выборок.\n",
        "\n",
        "Сравните результат с полученными ранее. Сделайте вывод.\n"
      ]
    },
    {
      "cell_type": "markdown",
      "id": "4216b9ca",
      "metadata": {
        "id": "4216b9ca"
      },
      "source": [
        "**Критерии оценивания:**\n",
        "- Задание выполнено верно, учтены все условия (**1 балла**): \n",
        "    * построена модель дерева решений с заданными в условии задачи параметрами;\n",
        "    * с помощью полученной модели сформированы предсказания для тренировочной и тестовой выборок;\n",
        "    * приведён расчёт выбранной метрики на тренировочных и тестовых данных (метрика должна быть выбрана корректно);\n",
        "    * приведён небольшой вывод по полученным результатам, в котором содержится корректный ответ на поставленный в задании вопрос.\n",
        "\n",
        "- Задание выполнено неверно, не учтено одно или несколько условий (**0 баллов**)."
      ]
    },
    {
      "cell_type": "code",
      "execution_count": 50,
      "id": "ab6e8060",
      "metadata": {
        "colab": {
          "base_uri": "https://localhost:8080/"
        },
        "id": "ab6e8060",
        "outputId": "f5f1ce61-e6c8-4d74-d5d3-f7548495ef3a"
      },
      "outputs": [
        {
          "name": "stdout",
          "output_type": "stream",
          "text": [
            "Train: 0.72\n",
            "Test: 0.65\n"
          ]
        }
      ],
      "source": [
        "# Ваш код здесь\n",
        "#Создаем объект класса дерево решений\n",
        "dt = tree.DecisionTreeClassifier(\n",
        "    criterion='entropy',\n",
        "    min_samples_leaf=10,\n",
        "    max_depth=8,\n",
        "    random_state=42\n",
        ")\n",
        "#Обучаем дерево по алгоритму CART\n",
        "dt.fit(X_train, y_train)\n",
        "#Выводим значения метрики \n",
        "y_train_pred = dt.predict(X_train)\n",
        "print('Train: {:.2f}'.format(metrics.f1_score(y_train, y_train_pred)))\n",
        "y_test_pred = dt.predict(X_test)\n",
        "print('Test: {:.2f}'.format(metrics.f1_score(y_test, y_test_pred)))"
      ]
    },
    {
      "cell_type": "markdown",
      "id": "0d9a4222",
      "metadata": {
        "id": "0d9a4222"
      },
      "source": [
        "> Ваши выводы и рассуждения — *здесь*\n",
        "\n",
        "*Модель обучена неплохо. По сравнению с прошлым результатом метрика F1-score на тестовом наборе выросла до 0.65 с 0.57.*"
      ]
    },
    {
      "cell_type": "markdown",
      "id": "2a37fe23",
      "metadata": {
        "id": "2a37fe23"
      },
      "source": [
        "### Задание 8.3. (1 балл)\n",
        "\n",
        "Давайте воспользуемся случайным лесом. \n",
        "\n",
        "Постройте случайный лес (`RandomForestClassifier`) из 500 деревьев с максимальной глубиной 8. Критерий информативности — энтропия Шеннона, минимальное число объектов в листе (количество объектов, при которых дерево прекратит делиться и образуется лист) — 10.\n",
        "\n",
        "Также позаботьтесь о воспроизводимости результатов, установив конкретное значение значение `random_state` (например, число 42).\n",
        "\n",
        "Сделайте предсказания для тренировочной и тестовой выборок. Рассчитайте значение целевой метрики на каждой из выборок.\n",
        "\n",
        "Сравните качество одного дерева решений с качеством случайного леса на тестовой выборке. Смогли ли вы улучшить метрику?\n"
      ]
    },
    {
      "cell_type": "markdown",
      "id": "0277e1e0",
      "metadata": {
        "id": "0277e1e0"
      },
      "source": [
        "**Критерии оценивания:**\n",
        "- Задание выполнено верно, учтены все условия (**1 балл**): \n",
        "    * построена модель дерева решений с заданными в условии задачи параметрами;\n",
        "    * с помощью полученной модели сформированы предсказания для тренировочной и тестовой выборок;\n",
        "    * приведён расчёт выбранной метрики на тренировочных и тестовых данных (метрика должна быть выбрана корректно);\n",
        "    * приведён небольшой вывод по полученным результатам, в котором содержится корректный ответ на поставленный в задании вопрос.\n",
        "\n",
        "- Задание выполнено неверно, не учтено одно или несколько условий (**0 баллов**)."
      ]
    },
    {
      "cell_type": "code",
      "execution_count": 51,
      "id": "a7a08886",
      "metadata": {
        "colab": {
          "base_uri": "https://localhost:8080/"
        },
        "id": "a7a08886",
        "outputId": "ef93e6f2-f7d4-44f4-a3a9-50e8b3f254b7"
      },
      "outputs": [
        {
          "name": "stdout",
          "output_type": "stream",
          "text": [
            "Train: 0.72\n",
            "Test: 0.66\n"
          ]
        }
      ],
      "source": [
        "# Ваш код здесь\n",
        "#Создаем объект класса случайный лес\n",
        "rf = ensemble.RandomForestClassifier(\n",
        "    n_estimators=500,\n",
        "    max_depth=8,\n",
        "    criterion='entropy',\n",
        "    min_samples_leaf=10,\n",
        "    random_state=42\n",
        ")\n",
        "#Обучаем модель\n",
        "rf.fit(X_train, y_train)\n",
        "#Выводим значения метрики \n",
        "y_train_pred = rf.predict(X_train)\n",
        "print('Train: {:.2f}'.format(metrics.f1_score(y_train, y_train_pred)))\n",
        "y_test_pred = rf.predict(X_test)\n",
        "print('Test: {:.2f}'.format(metrics.f1_score(y_test, y_test_pred)))"
      ]
    },
    {
      "cell_type": "markdown",
      "id": "80cfd760",
      "metadata": {
        "id": "80cfd760"
      },
      "source": [
        "> Ваши выводы и рассуждения — *здесь*\n",
        "\n",
        "*Метрика улучшилось незначительно, на 0.01 и равна 0.66* "
      ]
    },
    {
      "cell_type": "markdown",
      "id": "f65b1d5d",
      "metadata": {
        "id": "f65b1d5d"
      },
      "source": [
        "### Задание 8.4. (2 балла)\n",
        "\n",
        "Мы на финишной прямой. \n",
        "\n",
        "\n",
        "Попробуйте подобрать значение порога вероятности, при котором наблюдается наибольшее значение целевой метрики на тестовой выборке. **Используйте ту модель (из рассмотренных ранее), которая показала наилучшее качество на тестовой выборке.**\n",
        "\n",
        "\n",
        "В качестве порога вероятности используйте значения из следующего диапазона:\n",
        "\n",
        "`thresholds = np.arange(0.1, 1, 0.05)`\n",
        "\n",
        "Напомним алгоритм, как определить оптимальный порог вероятности:\n",
        "* Предсказать вероятности оттока для каждого клиента из тестовой выборки.\n",
        "* В цикле перебрать значения порогов вероятности threshold:\n",
        "    * Сделать предсказание класса по принципу: если вероятность > threshold, то отнести объект к классу 1, в противном случае — к классу 0.\n",
        "    * Рассчитать метрику и занести её в заранее созданный список. \n",
        "\n",
        "Для реализации алгоритма подбора вы можете воспользоваться шаблоном кода, приведённым ниже:\n",
        "\n",
        "```python\n",
        "# Делаем предсказание вероятности оттока для каждого клиента из тестовой выборки\n",
        "y_test_proba_pred = pd.Series(model.predict_proba(X_test_poly)[:, 1])\n",
        "# Инициализируем список, куда будем сохранять метрики.\n",
        "scores = []\n",
        "# Задаём значения порогов вероятности\n",
        "thresholds = np.arange(0.1, 1, 0.05)\n",
        "# В цикле перебираем значения порогов вероятности\n",
        "for threshold in thresholds:\n",
        "    # Делаем предсказание\n",
        "    y_test_pred_poly = y_test_proba_pred.apply(lambda x: 1 if x > threshold else 0)\n",
        "    # Рассчитываем метрику\n",
        "    score = # код для вычисления метрики\n",
        "    # Добавляем результат в список\n",
        "    scores.append(score)\n",
        "```\n",
        "\n",
        "Постройте график зависимости целевой метрики от порога вероятности. На основе построенного графика определите порог вероятности, которому соответствует наибольшее значение целевой метрики на тестовой выборке.\n",
        "\n",
        "Сделайте предсказание классов с подобранным оптимальным порогом вероятности. Рассчитайте значение целевой метрики на тестовой выборке и сравните полученный результат с полученными ранее. \n",
        "\n",
        "Напишите небольшой вывод о проделанной работе, указав в нём, какая из рассмотренных нами моделей показала наилучший результат.\n",
        "\n",
        "> **Примечание.** Помните о том, что в реальных задачах (а мы решали задачу на реальных данных) мы практически никогда не сможем получить значения метрик, близкие к 1. Если в задаче прогнозирования оттока ваша метрика превышает хотя бы значения 0.6-0.7, вашу модель уже можно считать хорошей и можно говорить о том, что она успешно справляется с задачей."
      ]
    },
    {
      "cell_type": "code",
      "execution_count": 55,
      "id": "a5578584",
      "metadata": {
        "colab": {
          "base_uri": "https://localhost:8080/",
          "height": 621
        },
        "id": "a5578584",
        "outputId": "876d3184-5065-4e47-fb36-dd48ad1ba900"
      },
      "outputs": [
        {
          "name": "stderr",
          "output_type": "stream",
          "text": [
            "/usr/local/lib/python3.9/dist-packages/sklearn/metrics/_classification.py:1344: UndefinedMetricWarning: Precision is ill-defined and being set to 0.0 due to no predicted samples. Use `zero_division` parameter to control this behavior.\n",
            "  _warn_prf(average, modifier, msg_start, len(result))\n"
          ]
        },
        {
          "name": "stdout",
          "output_type": "stream",
          "text": [
            "              precision    recall  f1-score   support\n",
            "\n",
            "           0       0.84      0.84      0.84       424\n",
            "           1       0.66      0.67      0.67       204\n",
            "\n",
            "    accuracy                           0.78       628\n",
            "   macro avg       0.75      0.75      0.75       628\n",
            "weighted avg       0.78      0.78      0.78       628\n",
            "\n"
          ]
        },
        {
          "data": {
            "image/png": "[encoded data removed]",
            "text/plain": [
              "<Figure size 1000x400 with 1 Axes>"
            ]
          },
          "metadata": {},
          "output_type": "display_data"
        }
      ],
      "source": [
        "# Ваш код здесь\n",
        "#Нас интересует только вероятность класса (второй столбец)\n",
        "y_test_proba_pred = rf.predict_proba(X_test)[:, 1]\n",
        "#Для удобства завернем numpy-массив в pandas Series\n",
        "y_test_proba_pred = pd.Series(y_test_proba_pred)\n",
        "#Создадим списки, в которых будем хранить значения метрик \n",
        "recall_scores = []\n",
        "precision_scores = []\n",
        "f1_scores = []\n",
        "#Сгенерируем набор вероятностных порогов в диапазоне от 0.1 до 1\n",
        "thresholds = np.arange(0.1, 1, 0.05)\n",
        "#В цикле будем перебирать сгенерированные пороги\n",
        "for threshold in thresholds:\n",
        "    #В противном случае - к классу 0\n",
        "    y_test_pred = y_test_proba_pred.apply(lambda x: 1 if x>threshold else 0)\n",
        "    #Считаем метрики и добавляем их в списки\n",
        "    recall_scores.append(metrics.recall_score(y_test, y_test_pred))\n",
        "    precision_scores.append(metrics.precision_score(y_test, y_test_pred))\n",
        "    f1_scores.append(metrics.f1_score(y_test, y_test_pred))\n",
        "\n",
        "#Визуализируем метрики при различных threshold\n",
        "fig, ax = plt.subplots(figsize=(10, 4)) #фигура + координатная плоскость\n",
        "#Строим линейный график зависимости recall от threshold\n",
        "ax.plot(thresholds, recall_scores, label='Recall')\n",
        "#Строим линейный график зависимости precision от threshold\n",
        "ax.plot(thresholds, precision_scores, label='Precision')\n",
        "\n",
        "#Строим линейный график зависимости F1 от threshold\n",
        "ax.plot(thresholds, f1_scores, label='F1-score')\n",
        "#Даем графику название и подписи осям\n",
        "ax.set_title('Recall/Precision dependence on the threshold')\n",
        "ax.set_xlabel('Probability threshold')\n",
        "ax.set_ylabel('Score')\n",
        "ax.set_xticks(thresholds)\n",
        "ax.legend();\n",
        "\n",
        "#Задаем оптимальный порог вероятностей\n",
        "threshold_opt = 0.42\n",
        "y_test_pred_opt = y_test_proba_pred.apply(lambda x: 1 if x > threshold_opt else 0)\n",
        "#Считаем метрики\n",
        "print(metrics.classification_report(y_test, y_test_pred_opt))"
      ]
    },
    {
      "cell_type": "markdown",
      "id": "088365d3",
      "metadata": {
        "id": "088365d3"
      },
      "source": [
        "> Ваши выводы и рассуждения — *здесь*\n",
        "\n",
        "*При оптимальном пороге вероятности равной 0.42 метрика модели на тестовом наборе снова улучшилось и получили f1-score=0,67. Также precision и recall находятся на одном уровне 0.66 и 0.67 соответственно. Минимизированы как ложноположительные так ложноотрицательные срабатывания модели.*"
      ]
    },
    {
      "cell_type": "markdown",
      "id": "lRcIEe0uutOC",
      "metadata": {
        "id": "lRcIEe0uutOC"
      },
      "source": [
        "### Задание 8.5. (1 балл)\n",
        "\n",
        "Наконец, финальная задача.\n",
        "\n",
        "У нашего банка есть некоторый клиент, назовём его Василием. В базе данных банка хранятся следующие данные о Василии:\n",
        "\n",
        "```python\n",
        "{\n",
        "    'CreditScore': [601.0],\n",
        "    'Gender': ['Male'],\n",
        "    'Age': [42.0],\n",
        "    'Tenure': [1.0],\n",
        "    'Balance': [98495.72],\n",
        "    'NumOfProducts': [1.0],\n",
        "    'HasCrCard': [1.0],\n",
        "    'IsActiveMember': [0.0],\n",
        "    'EstimatedSalary': [40014.76]\n",
        "}\n",
        "```\n",
        "\n",
        "С помощью наилучшей модели спрогнозируйте вероятность того, что Василий откажется от услуг банка.\n",
        "\n",
        "> **Примечание.** Учтите, что для предсказания необходимо преобразовать данные к тому формату, на котором обучалась модель, то есть:\n",
        "* добавить признаки дополнительные признаки; \n",
        "* произвести кодирование категориальных признаков;\n",
        "* произвести масштабирование признаков (если ваша модель обучалась на масштабированных данных) с помощью того же скейлера, который вы использовали при обучении модели;\n",
        "* сгенерировать полиномиальные признаки."
      ]
    },
    {
      "cell_type": "markdown",
      "id": "Y2zispyJ1qgQ",
      "metadata": {
        "id": "Y2zispyJ1qgQ"
      },
      "source": [
        "**Критерии оценивания:**\n",
        "- Задание выполнено верно, учтены все условия (**1 балл**): \n",
        "    * сформирован DataFrame на основе предоставленного словаря;\n",
        "    * произведены преобразования данных, необходимые для работы модели;\n",
        "    * предсказана вероятность оттока клиента (вероятность принадлежности к классу 1).\n",
        "\n",
        "- Задание выполнено неверно, не учтено одно или несколько условий (**0 баллов**)."
      ]
    },
    {
      "cell_type": "code",
      "execution_count": 56,
      "id": "BaCMTaz2jcz3",
      "metadata": {
        "colab": {
          "base_uri": "https://localhost:8080/"
        },
        "id": "BaCMTaz2jcz3",
        "outputId": "bd574521-f090-44b3-93f3-30860b66efae"
      },
      "outputs": [
        {
          "name": "stderr",
          "output_type": "stream",
          "text": [
            "<ipython-input-56-b721e44f0359>:20: DeprecationWarning: `np.int` is a deprecated alias for the builtin `int`. To silence this warning, use `int` by itself. Doing this will not modify any behavior and is safe. When replacing `np.int`, you may wish to use e.g. `np.int64` or `np.int32` to specify the precision. If you wish to review your current use, check the release note link for additional information.\n",
            "Deprecated in NumPy 1.20; for more details and guidance: https://numpy.org/devdocs/release/1.20.0-notes.html#deprecations\n",
            "  temp_data = temp_data.astype({'NumOfProducts': np.int})\n"
          ]
        },
        {
          "data": {
            "text/plain": [
              "array([[0.33407957, 0.66592043]])"
            ]
          },
          "execution_count": 56,
          "metadata": {},
          "output_type": "execute_result"
        }
      ],
      "source": [
        "# Ваш код здесь\n",
        "temp_data = pd.DataFrame({'CreditScore':[601.0], \n",
        "                          'Gender':['Male'], \n",
        "                          'Age':[42.0], \n",
        "                          'Tenure':[1.0], \n",
        "                          'Balance':[98495.72], \n",
        "                          'NumOfProducts':[1.0], \n",
        "                          'HasCrCard':[1.0], \n",
        "                          'IsActiveMember':[0.0], \n",
        "                          'EstimatedSalary':[40014.76]\n",
        "                          })\n",
        "\n",
        "#Создаем следующие признаки\n",
        "temp_data['BalanceSalaryRatio'] = temp_data['Balance'] / temp_data['EstimatedSalary']\n",
        "temp_data['TenureByAge'] = temp_data['Tenure'] / temp_data['Age']\n",
        "temp_data['CreditScoreGivenAge'] = temp_data['CreditScore'] / temp_data['Age']\n",
        "\n",
        "#кодирование категориальных признаков\n",
        "temp_data['Gender_Male'] = temp_data['Gender'].apply(lambda x: 1 if x=='Male' else 0)\n",
        "temp_data = temp_data.astype({'NumOfProducts': np.int})\n",
        "temp_data = pd.get_dummies(temp_data, columns=['NumOfProducts'])\n",
        "\n",
        "data = pd.DataFrame(temp_data, columns = churn_data.columns)\n",
        "data.fillna(0, inplace=True)\n",
        "data.drop('Exited', axis=1, inplace=True)\n",
        "\n",
        "#нормализуем\n",
        "data_scaled = scaler.transform(data)\n",
        "\n",
        "#Производим преобразование для каждой из выборок для генерации полиномиальных признаков степени 3\n",
        "data_scaled_poly = poly.transform(data_scaled)\n",
        "\n",
        "#прогноз вероятности оттока клиента\n",
        "res_temp = log_reg.predict_proba(data_scaled_poly)\n",
        "res_temp"
      ]
    },
    {
      "cell_type": "markdown",
      "id": "dlCvIYQX9zKm",
      "metadata": {
        "id": "dlCvIYQX9zKm"
      },
      "source": [
        "*С вероятностью 0.67 Василий откажется от услуг банка*"
      ]
    }
  ],
  "metadata": {
    "colab": {
      "provenance": []
    },
    "kernelspec": {
      "display_name": "Python 3.10.8 ('base')",
      "language": "python",
      "name": "python3"
    },
    "language_info": {
      "codemirror_mode": {
        "name": "ipython",
        "version": 3
      },
      "file_extension": ".py",
      "mimetype": "text/x-python",
      "name": "python",
      "nbconvert_exporter": "python",
      "pygments_lexer": "ipython3",
      "version": "3.10.8"
    },
    "vscode": {
      "interpreter": {
        "hash": "86c56a74836ad344b00594bf6f38fa6a676a207ceefe20d101fbc465800ccb8d"
      }
    }
  },
  "nbformat": 4,
  "nbformat_minor": 5
}
